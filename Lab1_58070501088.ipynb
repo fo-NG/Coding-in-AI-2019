{
 "cells": [
  {
   "cell_type": "markdown",
   "metadata": {},
   "source": [
    "# Lab 1: Logistic Regression"
   ]
  },
  {
   "cell_type": "markdown",
   "metadata": {},
   "source": [
    "## Lab Instruction \n",
    "\n",
    "In this lab, you are to create a logistic regression model to predict the sale price of <br>\n",
    "houses (Low, High) from a given set of attributes. <br>\n",
    "The data file is`lab1_dataset.csv` <br>\n",
    "Note that you need to explore and process/drop attributes, <br>\n",
    "and map numerical values of sale prices to categorical values (Low, High)"
   ]
  },
  {
   "cell_type": "markdown",
   "metadata": {},
   "source": [
    "###  1. Import the Dataset and Learn About the Data\n"
   ]
  },
  {
   "cell_type": "code",
   "execution_count": 71,
   "metadata": {},
   "outputs": [],
   "source": [
    "import pandas as pd\n",
    "import numpy as np"
   ]
  },
  {
   "cell_type": "code",
   "execution_count": 1,
   "metadata": {},
   "outputs": [
    {
     "ename": "NameError",
     "evalue": "name 'pd' is not defined",
     "output_type": "error",
     "traceback": [
      "\u001b[1;31m---------------------------------------------------------------------------\u001b[0m",
      "\u001b[1;31mNameError\u001b[0m                                 Traceback (most recent call last)",
      "\u001b[1;32m<ipython-input-1-289e985ee1e1>\u001b[0m in \u001b[0;36m<module>\u001b[1;34m()\u001b[0m\n\u001b[0;32m      1\u001b[0m \u001b[1;33m\u001b[0m\u001b[0m\n\u001b[1;32m----> 2\u001b[1;33m \u001b[0mpd\u001b[0m\u001b[1;33m.\u001b[0m\u001b[0mset_option\u001b[0m\u001b[1;33m(\u001b[0m\u001b[1;34m'display.height'\u001b[0m\u001b[1;33m,\u001b[0m \u001b[1;36m1000\u001b[0m\u001b[1;33m)\u001b[0m\u001b[1;33m\u001b[0m\u001b[0m\n\u001b[0m\u001b[0;32m      3\u001b[0m \u001b[0mpd\u001b[0m\u001b[1;33m.\u001b[0m\u001b[0mset_option\u001b[0m\u001b[1;33m(\u001b[0m\u001b[1;34m'display.max_rows'\u001b[0m\u001b[1;33m,\u001b[0m \u001b[1;36m500\u001b[0m\u001b[1;33m)\u001b[0m\u001b[1;33m\u001b[0m\u001b[0m\n\u001b[0;32m      4\u001b[0m \u001b[0mpd\u001b[0m\u001b[1;33m.\u001b[0m\u001b[0mset_option\u001b[0m\u001b[1;33m(\u001b[0m\u001b[1;34m'display.max_columns'\u001b[0m\u001b[1;33m,\u001b[0m \u001b[1;36m500\u001b[0m\u001b[1;33m)\u001b[0m\u001b[1;33m\u001b[0m\u001b[0m\n\u001b[0;32m      5\u001b[0m \u001b[0mpd\u001b[0m\u001b[1;33m.\u001b[0m\u001b[0mset_option\u001b[0m\u001b[1;33m(\u001b[0m\u001b[1;34m'display.width'\u001b[0m\u001b[1;33m,\u001b[0m \u001b[1;36m1000\u001b[0m\u001b[1;33m)\u001b[0m\u001b[1;33m\u001b[0m\u001b[0m\n",
      "\u001b[1;31mNameError\u001b[0m: name 'pd' is not defined"
     ]
    }
   ],
   "source": [
    "\n",
    "pd.set_option('display.height', 1000)\n",
    "pd.set_option('display.max_rows', 500)\n",
    "pd.set_option('display.max_columns', 500)\n",
    "pd.set_option('display.width', 1000)\n",
    "\n",
    "df"
   ]
  },
  {
   "cell_type": "code",
   "execution_count": 72,
   "metadata": {},
   "outputs": [],
   "source": [
    "df = pd.read_csv(\"lab1_dataset.csv\",sep=\",\")"
   ]
  },
  {
   "cell_type": "code",
   "execution_count": 7,
   "metadata": {},
   "outputs": [
    {
     "data": {
      "text/html": [
       "<div>\n",
       "<style scoped>\n",
       "    .dataframe tbody tr th:only-of-type {\n",
       "        vertical-align: middle;\n",
       "    }\n",
       "\n",
       "    .dataframe tbody tr th {\n",
       "        vertical-align: top;\n",
       "    }\n",
       "\n",
       "    .dataframe thead th {\n",
       "        text-align: right;\n",
       "    }\n",
       "</style>\n",
       "<table border=\"1\" class=\"dataframe\">\n",
       "  <thead>\n",
       "    <tr style=\"text-align: right;\">\n",
       "      <th></th>\n",
       "      <th>Id</th>\n",
       "      <th>1stFlrSF</th>\n",
       "      <th>Fireplaces</th>\n",
       "      <th>FullBath</th>\n",
       "      <th>OpenPorchSF</th>\n",
       "      <th>GarageYrBlt</th>\n",
       "      <th>OverallQual</th>\n",
       "      <th>YearBuilt</th>\n",
       "      <th>GarageArea</th>\n",
       "      <th>TotRmsAbvGrd</th>\n",
       "      <th>GarageCars</th>\n",
       "      <th>GrLivArea</th>\n",
       "      <th>YearRemodAdd</th>\n",
       "      <th>LotFrontage</th>\n",
       "      <th>SalePrice</th>\n",
       "    </tr>\n",
       "  </thead>\n",
       "  <tbody>\n",
       "    <tr>\n",
       "      <th>count</th>\n",
       "      <td>1460.000000</td>\n",
       "      <td>1460.000000</td>\n",
       "      <td>1460.000000</td>\n",
       "      <td>1460.000000</td>\n",
       "      <td>1460.000000</td>\n",
       "      <td>1379.000000</td>\n",
       "      <td>1460.000000</td>\n",
       "      <td>1460.000000</td>\n",
       "      <td>1460.000000</td>\n",
       "      <td>1460.000000</td>\n",
       "      <td>1460.000000</td>\n",
       "      <td>1460.000000</td>\n",
       "      <td>1460.000000</td>\n",
       "      <td>1201.000000</td>\n",
       "      <td>1460.000000</td>\n",
       "    </tr>\n",
       "    <tr>\n",
       "      <th>mean</th>\n",
       "      <td>730.500000</td>\n",
       "      <td>1162.626712</td>\n",
       "      <td>0.613014</td>\n",
       "      <td>1.565068</td>\n",
       "      <td>46.660274</td>\n",
       "      <td>1978.506164</td>\n",
       "      <td>6.099315</td>\n",
       "      <td>1971.267808</td>\n",
       "      <td>472.980137</td>\n",
       "      <td>6.517808</td>\n",
       "      <td>1.767123</td>\n",
       "      <td>1515.463699</td>\n",
       "      <td>1984.865753</td>\n",
       "      <td>70.049958</td>\n",
       "      <td>180921.195890</td>\n",
       "    </tr>\n",
       "    <tr>\n",
       "      <th>std</th>\n",
       "      <td>421.610009</td>\n",
       "      <td>386.587738</td>\n",
       "      <td>0.644666</td>\n",
       "      <td>0.550916</td>\n",
       "      <td>66.256028</td>\n",
       "      <td>24.689725</td>\n",
       "      <td>1.382997</td>\n",
       "      <td>30.202904</td>\n",
       "      <td>213.804841</td>\n",
       "      <td>1.625393</td>\n",
       "      <td>0.747315</td>\n",
       "      <td>525.480383</td>\n",
       "      <td>20.645407</td>\n",
       "      <td>24.284752</td>\n",
       "      <td>79442.502883</td>\n",
       "    </tr>\n",
       "    <tr>\n",
       "      <th>min</th>\n",
       "      <td>1.000000</td>\n",
       "      <td>334.000000</td>\n",
       "      <td>0.000000</td>\n",
       "      <td>0.000000</td>\n",
       "      <td>0.000000</td>\n",
       "      <td>1900.000000</td>\n",
       "      <td>1.000000</td>\n",
       "      <td>1872.000000</td>\n",
       "      <td>0.000000</td>\n",
       "      <td>2.000000</td>\n",
       "      <td>0.000000</td>\n",
       "      <td>334.000000</td>\n",
       "      <td>1950.000000</td>\n",
       "      <td>21.000000</td>\n",
       "      <td>34900.000000</td>\n",
       "    </tr>\n",
       "    <tr>\n",
       "      <th>25%</th>\n",
       "      <td>365.750000</td>\n",
       "      <td>882.000000</td>\n",
       "      <td>0.000000</td>\n",
       "      <td>1.000000</td>\n",
       "      <td>0.000000</td>\n",
       "      <td>1961.000000</td>\n",
       "      <td>5.000000</td>\n",
       "      <td>1954.000000</td>\n",
       "      <td>334.500000</td>\n",
       "      <td>5.000000</td>\n",
       "      <td>1.000000</td>\n",
       "      <td>1129.500000</td>\n",
       "      <td>1967.000000</td>\n",
       "      <td>59.000000</td>\n",
       "      <td>129975.000000</td>\n",
       "    </tr>\n",
       "    <tr>\n",
       "      <th>50%</th>\n",
       "      <td>730.500000</td>\n",
       "      <td>1087.000000</td>\n",
       "      <td>1.000000</td>\n",
       "      <td>2.000000</td>\n",
       "      <td>25.000000</td>\n",
       "      <td>1980.000000</td>\n",
       "      <td>6.000000</td>\n",
       "      <td>1973.000000</td>\n",
       "      <td>480.000000</td>\n",
       "      <td>6.000000</td>\n",
       "      <td>2.000000</td>\n",
       "      <td>1464.000000</td>\n",
       "      <td>1994.000000</td>\n",
       "      <td>69.000000</td>\n",
       "      <td>163000.000000</td>\n",
       "    </tr>\n",
       "    <tr>\n",
       "      <th>75%</th>\n",
       "      <td>1095.250000</td>\n",
       "      <td>1391.250000</td>\n",
       "      <td>1.000000</td>\n",
       "      <td>2.000000</td>\n",
       "      <td>68.000000</td>\n",
       "      <td>2002.000000</td>\n",
       "      <td>7.000000</td>\n",
       "      <td>2000.000000</td>\n",
       "      <td>576.000000</td>\n",
       "      <td>7.000000</td>\n",
       "      <td>2.000000</td>\n",
       "      <td>1776.750000</td>\n",
       "      <td>2004.000000</td>\n",
       "      <td>80.000000</td>\n",
       "      <td>214000.000000</td>\n",
       "    </tr>\n",
       "    <tr>\n",
       "      <th>max</th>\n",
       "      <td>1460.000000</td>\n",
       "      <td>4692.000000</td>\n",
       "      <td>3.000000</td>\n",
       "      <td>3.000000</td>\n",
       "      <td>547.000000</td>\n",
       "      <td>2010.000000</td>\n",
       "      <td>10.000000</td>\n",
       "      <td>2010.000000</td>\n",
       "      <td>1418.000000</td>\n",
       "      <td>14.000000</td>\n",
       "      <td>4.000000</td>\n",
       "      <td>5642.000000</td>\n",
       "      <td>2010.000000</td>\n",
       "      <td>313.000000</td>\n",
       "      <td>755000.000000</td>\n",
       "    </tr>\n",
       "  </tbody>\n",
       "</table>\n",
       "</div>"
      ],
      "text/plain": [
       "                Id     1stFlrSF   Fireplaces     FullBath  OpenPorchSF  \\\n",
       "count  1460.000000  1460.000000  1460.000000  1460.000000  1460.000000   \n",
       "mean    730.500000  1162.626712     0.613014     1.565068    46.660274   \n",
       "std     421.610009   386.587738     0.644666     0.550916    66.256028   \n",
       "min       1.000000   334.000000     0.000000     0.000000     0.000000   \n",
       "25%     365.750000   882.000000     0.000000     1.000000     0.000000   \n",
       "50%     730.500000  1087.000000     1.000000     2.000000    25.000000   \n",
       "75%    1095.250000  1391.250000     1.000000     2.000000    68.000000   \n",
       "max    1460.000000  4692.000000     3.000000     3.000000   547.000000   \n",
       "\n",
       "       GarageYrBlt  OverallQual    YearBuilt   GarageArea  TotRmsAbvGrd  \\\n",
       "count  1379.000000  1460.000000  1460.000000  1460.000000   1460.000000   \n",
       "mean   1978.506164     6.099315  1971.267808   472.980137      6.517808   \n",
       "std      24.689725     1.382997    30.202904   213.804841      1.625393   \n",
       "min    1900.000000     1.000000  1872.000000     0.000000      2.000000   \n",
       "25%    1961.000000     5.000000  1954.000000   334.500000      5.000000   \n",
       "50%    1980.000000     6.000000  1973.000000   480.000000      6.000000   \n",
       "75%    2002.000000     7.000000  2000.000000   576.000000      7.000000   \n",
       "max    2010.000000    10.000000  2010.000000  1418.000000     14.000000   \n",
       "\n",
       "        GarageCars    GrLivArea  YearRemodAdd  LotFrontage      SalePrice  \n",
       "count  1460.000000  1460.000000   1460.000000  1201.000000    1460.000000  \n",
       "mean      1.767123  1515.463699   1984.865753    70.049958  180921.195890  \n",
       "std       0.747315   525.480383     20.645407    24.284752   79442.502883  \n",
       "min       0.000000   334.000000   1950.000000    21.000000   34900.000000  \n",
       "25%       1.000000  1129.500000   1967.000000    59.000000  129975.000000  \n",
       "50%       2.000000  1464.000000   1994.000000    69.000000  163000.000000  \n",
       "75%       2.000000  1776.750000   2004.000000    80.000000  214000.000000  \n",
       "max       4.000000  5642.000000   2010.000000   313.000000  755000.000000  "
      ]
     },
     "execution_count": 7,
     "metadata": {},
     "output_type": "execute_result"
    }
   ],
   "source": [
    "df.describe()"
   ]
  },
  {
   "cell_type": "code",
   "execution_count": 8,
   "metadata": {},
   "outputs": [
    {
     "data": {
      "text/html": [
       "<div>\n",
       "<style scoped>\n",
       "    .dataframe tbody tr th:only-of-type {\n",
       "        vertical-align: middle;\n",
       "    }\n",
       "\n",
       "    .dataframe tbody tr th {\n",
       "        vertical-align: top;\n",
       "    }\n",
       "\n",
       "    .dataframe thead th {\n",
       "        text-align: right;\n",
       "    }\n",
       "</style>\n",
       "<table border=\"1\" class=\"dataframe\">\n",
       "  <thead>\n",
       "    <tr style=\"text-align: right;\">\n",
       "      <th></th>\n",
       "      <th>Id</th>\n",
       "      <th>Foundation</th>\n",
       "      <th>1stFlrSF</th>\n",
       "      <th>KitchenQual</th>\n",
       "      <th>Fireplaces</th>\n",
       "      <th>HeatingQC</th>\n",
       "      <th>FullBath</th>\n",
       "      <th>BsmtQual</th>\n",
       "      <th>OpenPorchSF</th>\n",
       "      <th>GarageYrBlt</th>\n",
       "      <th>...</th>\n",
       "      <th>BsmtFinType1</th>\n",
       "      <th>YearBuilt</th>\n",
       "      <th>GarageArea</th>\n",
       "      <th>TotRmsAbvGrd</th>\n",
       "      <th>GarageCars</th>\n",
       "      <th>GrLivArea</th>\n",
       "      <th>YearRemodAdd</th>\n",
       "      <th>LotFrontage</th>\n",
       "      <th>Fence</th>\n",
       "      <th>SalePrice</th>\n",
       "    </tr>\n",
       "  </thead>\n",
       "  <tbody>\n",
       "    <tr>\n",
       "      <th>0</th>\n",
       "      <td>1</td>\n",
       "      <td>PConc</td>\n",
       "      <td>856</td>\n",
       "      <td>Gd</td>\n",
       "      <td>0</td>\n",
       "      <td>Ex</td>\n",
       "      <td>2</td>\n",
       "      <td>Gd</td>\n",
       "      <td>61</td>\n",
       "      <td>2003.0</td>\n",
       "      <td>...</td>\n",
       "      <td>GLQ</td>\n",
       "      <td>2003</td>\n",
       "      <td>548</td>\n",
       "      <td>8</td>\n",
       "      <td>2</td>\n",
       "      <td>1710</td>\n",
       "      <td>2003</td>\n",
       "      <td>65.0</td>\n",
       "      <td>NaN</td>\n",
       "      <td>208500</td>\n",
       "    </tr>\n",
       "    <tr>\n",
       "      <th>1</th>\n",
       "      <td>2</td>\n",
       "      <td>CBlock</td>\n",
       "      <td>1262</td>\n",
       "      <td>TA</td>\n",
       "      <td>1</td>\n",
       "      <td>Ex</td>\n",
       "      <td>2</td>\n",
       "      <td>Gd</td>\n",
       "      <td>0</td>\n",
       "      <td>1976.0</td>\n",
       "      <td>...</td>\n",
       "      <td>ALQ</td>\n",
       "      <td>1976</td>\n",
       "      <td>460</td>\n",
       "      <td>6</td>\n",
       "      <td>2</td>\n",
       "      <td>1262</td>\n",
       "      <td>1976</td>\n",
       "      <td>80.0</td>\n",
       "      <td>NaN</td>\n",
       "      <td>181500</td>\n",
       "    </tr>\n",
       "    <tr>\n",
       "      <th>2</th>\n",
       "      <td>3</td>\n",
       "      <td>PConc</td>\n",
       "      <td>920</td>\n",
       "      <td>Gd</td>\n",
       "      <td>1</td>\n",
       "      <td>Ex</td>\n",
       "      <td>2</td>\n",
       "      <td>Gd</td>\n",
       "      <td>42</td>\n",
       "      <td>2001.0</td>\n",
       "      <td>...</td>\n",
       "      <td>GLQ</td>\n",
       "      <td>2001</td>\n",
       "      <td>608</td>\n",
       "      <td>6</td>\n",
       "      <td>2</td>\n",
       "      <td>1786</td>\n",
       "      <td>2002</td>\n",
       "      <td>68.0</td>\n",
       "      <td>NaN</td>\n",
       "      <td>223500</td>\n",
       "    </tr>\n",
       "    <tr>\n",
       "      <th>3</th>\n",
       "      <td>4</td>\n",
       "      <td>BrkTil</td>\n",
       "      <td>961</td>\n",
       "      <td>Gd</td>\n",
       "      <td>1</td>\n",
       "      <td>Gd</td>\n",
       "      <td>1</td>\n",
       "      <td>TA</td>\n",
       "      <td>35</td>\n",
       "      <td>1998.0</td>\n",
       "      <td>...</td>\n",
       "      <td>ALQ</td>\n",
       "      <td>1915</td>\n",
       "      <td>642</td>\n",
       "      <td>7</td>\n",
       "      <td>3</td>\n",
       "      <td>1717</td>\n",
       "      <td>1970</td>\n",
       "      <td>60.0</td>\n",
       "      <td>NaN</td>\n",
       "      <td>140000</td>\n",
       "    </tr>\n",
       "    <tr>\n",
       "      <th>4</th>\n",
       "      <td>5</td>\n",
       "      <td>PConc</td>\n",
       "      <td>1145</td>\n",
       "      <td>Gd</td>\n",
       "      <td>1</td>\n",
       "      <td>Ex</td>\n",
       "      <td>2</td>\n",
       "      <td>Gd</td>\n",
       "      <td>84</td>\n",
       "      <td>2000.0</td>\n",
       "      <td>...</td>\n",
       "      <td>GLQ</td>\n",
       "      <td>2000</td>\n",
       "      <td>836</td>\n",
       "      <td>9</td>\n",
       "      <td>3</td>\n",
       "      <td>2198</td>\n",
       "      <td>2000</td>\n",
       "      <td>84.0</td>\n",
       "      <td>NaN</td>\n",
       "      <td>250000</td>\n",
       "    </tr>\n",
       "  </tbody>\n",
       "</table>\n",
       "<p>5 rows × 22 columns</p>\n",
       "</div>"
      ],
      "text/plain": [
       "   Id Foundation  1stFlrSF KitchenQual  Fireplaces HeatingQC  FullBath  \\\n",
       "0   1      PConc       856          Gd           0        Ex         2   \n",
       "1   2     CBlock      1262          TA           1        Ex         2   \n",
       "2   3      PConc       920          Gd           1        Ex         2   \n",
       "3   4     BrkTil       961          Gd           1        Gd         1   \n",
       "4   5      PConc      1145          Gd           1        Ex         2   \n",
       "\n",
       "  BsmtQual  OpenPorchSF  GarageYrBlt    ...     BsmtFinType1  YearBuilt  \\\n",
       "0       Gd           61       2003.0    ...              GLQ       2003   \n",
       "1       Gd            0       1976.0    ...              ALQ       1976   \n",
       "2       Gd           42       2001.0    ...              GLQ       2001   \n",
       "3       TA           35       1998.0    ...              ALQ       1915   \n",
       "4       Gd           84       2000.0    ...              GLQ       2000   \n",
       "\n",
       "  GarageArea  TotRmsAbvGrd  GarageCars  GrLivArea  YearRemodAdd  LotFrontage  \\\n",
       "0        548             8           2       1710          2003         65.0   \n",
       "1        460             6           2       1262          1976         80.0   \n",
       "2        608             6           2       1786          2002         68.0   \n",
       "3        642             7           3       1717          1970         60.0   \n",
       "4        836             9           3       2198          2000         84.0   \n",
       "\n",
       "   Fence  SalePrice  \n",
       "0    NaN     208500  \n",
       "1    NaN     181500  \n",
       "2    NaN     223500  \n",
       "3    NaN     140000  \n",
       "4    NaN     250000  \n",
       "\n",
       "[5 rows x 22 columns]"
      ]
     },
     "execution_count": 8,
     "metadata": {},
     "output_type": "execute_result"
    }
   ],
   "source": [
    "df.head()\n"
   ]
  },
  {
   "cell_type": "code",
   "execution_count": 9,
   "metadata": {},
   "outputs": [
    {
     "data": {
      "text/plain": [
       "Id                int64\n",
       "Foundation       object\n",
       "1stFlrSF          int64\n",
       "KitchenQual      object\n",
       "Fireplaces        int64\n",
       "HeatingQC        object\n",
       "FullBath          int64\n",
       "BsmtQual         object\n",
       "OpenPorchSF       int64\n",
       "GarageYrBlt     float64\n",
       "ExterQual        object\n",
       "OverallQual       int64\n",
       "BsmtFinType1     object\n",
       "YearBuilt         int64\n",
       "GarageArea        int64\n",
       "TotRmsAbvGrd      int64\n",
       "GarageCars        int64\n",
       "GrLivArea         int64\n",
       "YearRemodAdd      int64\n",
       "LotFrontage     float64\n",
       "Fence            object\n",
       "SalePrice         int64\n",
       "dtype: object"
      ]
     },
     "execution_count": 9,
     "metadata": {},
     "output_type": "execute_result"
    }
   ],
   "source": [
    "df.dtypes\n"
   ]
  },
  {
   "cell_type": "code",
   "execution_count": 10,
   "metadata": {},
   "outputs": [
    {
     "data": {
      "text/html": [
       "<div>\n",
       "<style scoped>\n",
       "    .dataframe tbody tr th:only-of-type {\n",
       "        vertical-align: middle;\n",
       "    }\n",
       "\n",
       "    .dataframe tbody tr th {\n",
       "        vertical-align: top;\n",
       "    }\n",
       "\n",
       "    .dataframe thead th {\n",
       "        text-align: right;\n",
       "    }\n",
       "</style>\n",
       "<table border=\"1\" class=\"dataframe\">\n",
       "  <thead>\n",
       "    <tr style=\"text-align: right;\">\n",
       "      <th></th>\n",
       "      <th>Id</th>\n",
       "      <th>Foundation</th>\n",
       "      <th>1stFlrSF</th>\n",
       "      <th>KitchenQual</th>\n",
       "      <th>Fireplaces</th>\n",
       "      <th>HeatingQC</th>\n",
       "      <th>FullBath</th>\n",
       "      <th>BsmtQual</th>\n",
       "      <th>OpenPorchSF</th>\n",
       "      <th>GarageYrBlt</th>\n",
       "      <th>...</th>\n",
       "      <th>BsmtFinType1</th>\n",
       "      <th>YearBuilt</th>\n",
       "      <th>GarageArea</th>\n",
       "      <th>TotRmsAbvGrd</th>\n",
       "      <th>GarageCars</th>\n",
       "      <th>GrLivArea</th>\n",
       "      <th>YearRemodAdd</th>\n",
       "      <th>LotFrontage</th>\n",
       "      <th>Fence</th>\n",
       "      <th>SalePrice</th>\n",
       "    </tr>\n",
       "  </thead>\n",
       "  <tbody>\n",
       "    <tr>\n",
       "      <th>1</th>\n",
       "      <td>2</td>\n",
       "      <td>CBlock</td>\n",
       "      <td>1262</td>\n",
       "      <td>TA</td>\n",
       "      <td>1</td>\n",
       "      <td>Ex</td>\n",
       "      <td>2</td>\n",
       "      <td>Gd</td>\n",
       "      <td>0</td>\n",
       "      <td>1976.0</td>\n",
       "      <td>...</td>\n",
       "      <td>ALQ</td>\n",
       "      <td>1976</td>\n",
       "      <td>460</td>\n",
       "      <td>6</td>\n",
       "      <td>2</td>\n",
       "      <td>1262</td>\n",
       "      <td>1976</td>\n",
       "      <td>80.0</td>\n",
       "      <td>NaN</td>\n",
       "      <td>181500</td>\n",
       "    </tr>\n",
       "    <tr>\n",
       "      <th>2</th>\n",
       "      <td>3</td>\n",
       "      <td>PConc</td>\n",
       "      <td>920</td>\n",
       "      <td>Gd</td>\n",
       "      <td>1</td>\n",
       "      <td>Ex</td>\n",
       "      <td>2</td>\n",
       "      <td>Gd</td>\n",
       "      <td>42</td>\n",
       "      <td>2001.0</td>\n",
       "      <td>...</td>\n",
       "      <td>GLQ</td>\n",
       "      <td>2001</td>\n",
       "      <td>608</td>\n",
       "      <td>6</td>\n",
       "      <td>2</td>\n",
       "      <td>1786</td>\n",
       "      <td>2002</td>\n",
       "      <td>68.0</td>\n",
       "      <td>NaN</td>\n",
       "      <td>223500</td>\n",
       "    </tr>\n",
       "    <tr>\n",
       "      <th>3</th>\n",
       "      <td>4</td>\n",
       "      <td>BrkTil</td>\n",
       "      <td>961</td>\n",
       "      <td>Gd</td>\n",
       "      <td>1</td>\n",
       "      <td>Gd</td>\n",
       "      <td>1</td>\n",
       "      <td>TA</td>\n",
       "      <td>35</td>\n",
       "      <td>1998.0</td>\n",
       "      <td>...</td>\n",
       "      <td>ALQ</td>\n",
       "      <td>1915</td>\n",
       "      <td>642</td>\n",
       "      <td>7</td>\n",
       "      <td>3</td>\n",
       "      <td>1717</td>\n",
       "      <td>1970</td>\n",
       "      <td>60.0</td>\n",
       "      <td>NaN</td>\n",
       "      <td>140000</td>\n",
       "    </tr>\n",
       "    <tr>\n",
       "      <th>4</th>\n",
       "      <td>5</td>\n",
       "      <td>PConc</td>\n",
       "      <td>1145</td>\n",
       "      <td>Gd</td>\n",
       "      <td>1</td>\n",
       "      <td>Ex</td>\n",
       "      <td>2</td>\n",
       "      <td>Gd</td>\n",
       "      <td>84</td>\n",
       "      <td>2000.0</td>\n",
       "      <td>...</td>\n",
       "      <td>GLQ</td>\n",
       "      <td>2000</td>\n",
       "      <td>836</td>\n",
       "      <td>9</td>\n",
       "      <td>3</td>\n",
       "      <td>2198</td>\n",
       "      <td>2000</td>\n",
       "      <td>84.0</td>\n",
       "      <td>NaN</td>\n",
       "      <td>250000</td>\n",
       "    </tr>\n",
       "  </tbody>\n",
       "</table>\n",
       "<p>4 rows × 22 columns</p>\n",
       "</div>"
      ],
      "text/plain": [
       "   Id Foundation  1stFlrSF KitchenQual  Fireplaces HeatingQC  FullBath  \\\n",
       "1   2     CBlock      1262          TA           1        Ex         2   \n",
       "2   3      PConc       920          Gd           1        Ex         2   \n",
       "3   4     BrkTil       961          Gd           1        Gd         1   \n",
       "4   5      PConc      1145          Gd           1        Ex         2   \n",
       "\n",
       "  BsmtQual  OpenPorchSF  GarageYrBlt    ...     BsmtFinType1  YearBuilt  \\\n",
       "1       Gd            0       1976.0    ...              ALQ       1976   \n",
       "2       Gd           42       2001.0    ...              GLQ       2001   \n",
       "3       TA           35       1998.0    ...              ALQ       1915   \n",
       "4       Gd           84       2000.0    ...              GLQ       2000   \n",
       "\n",
       "  GarageArea  TotRmsAbvGrd  GarageCars  GrLivArea  YearRemodAdd  LotFrontage  \\\n",
       "1        460             6           2       1262          1976         80.0   \n",
       "2        608             6           2       1786          2002         68.0   \n",
       "3        642             7           3       1717          1970         60.0   \n",
       "4        836             9           3       2198          2000         84.0   \n",
       "\n",
       "   Fence  SalePrice  \n",
       "1    NaN     181500  \n",
       "2    NaN     223500  \n",
       "3    NaN     140000  \n",
       "4    NaN     250000  \n",
       "\n",
       "[4 rows x 22 columns]"
      ]
     },
     "execution_count": 10,
     "metadata": {},
     "output_type": "execute_result"
    }
   ],
   "source": [
    "df[1:5]"
   ]
  },
  {
   "cell_type": "code",
   "execution_count": 11,
   "metadata": {},
   "outputs": [
    {
     "name": "stdout",
     "output_type": "stream",
     "text": [
      "<class 'pandas.core.frame.DataFrame'>\n",
      "RangeIndex: 1460 entries, 0 to 1459\n",
      "Data columns (total 22 columns):\n",
      "Id              1460 non-null int64\n",
      "Foundation      1460 non-null object\n",
      "1stFlrSF        1460 non-null int64\n",
      "KitchenQual     1460 non-null object\n",
      "Fireplaces      1460 non-null int64\n",
      "HeatingQC       1460 non-null object\n",
      "FullBath        1460 non-null int64\n",
      "BsmtQual        1423 non-null object\n",
      "OpenPorchSF     1460 non-null int64\n",
      "GarageYrBlt     1379 non-null float64\n",
      "ExterQual       1460 non-null object\n",
      "OverallQual     1460 non-null int64\n",
      "BsmtFinType1    1423 non-null object\n",
      "YearBuilt       1460 non-null int64\n",
      "GarageArea      1460 non-null int64\n",
      "TotRmsAbvGrd    1460 non-null int64\n",
      "GarageCars      1460 non-null int64\n",
      "GrLivArea       1460 non-null int64\n",
      "YearRemodAdd    1460 non-null int64\n",
      "LotFrontage     1201 non-null float64\n",
      "Fence           281 non-null object\n",
      "SalePrice       1460 non-null int64\n",
      "dtypes: float64(2), int64(13), object(7)\n",
      "memory usage: 251.0+ KB\n"
     ]
    }
   ],
   "source": [
    "df.info()"
   ]
  },
  {
   "cell_type": "code",
   "execution_count": 12,
   "metadata": {},
   "outputs": [
    {
     "data": {
      "text/plain": [
       "(1460, 22)"
      ]
     },
     "execution_count": 12,
     "metadata": {},
     "output_type": "execute_result"
    }
   ],
   "source": [
    "df.shape"
   ]
  },
  {
   "cell_type": "code",
   "execution_count": 13,
   "metadata": {},
   "outputs": [
    {
     "data": {
      "text/html": [
       "<div>\n",
       "<style scoped>\n",
       "    .dataframe tbody tr th:only-of-type {\n",
       "        vertical-align: middle;\n",
       "    }\n",
       "\n",
       "    .dataframe tbody tr th {\n",
       "        vertical-align: top;\n",
       "    }\n",
       "\n",
       "    .dataframe thead th {\n",
       "        text-align: right;\n",
       "    }\n",
       "</style>\n",
       "<table border=\"1\" class=\"dataframe\">\n",
       "  <thead>\n",
       "    <tr style=\"text-align: right;\">\n",
       "      <th></th>\n",
       "      <th>Id</th>\n",
       "      <th>1stFlrSF</th>\n",
       "      <th>Fireplaces</th>\n",
       "      <th>FullBath</th>\n",
       "      <th>OpenPorchSF</th>\n",
       "      <th>GarageYrBlt</th>\n",
       "      <th>OverallQual</th>\n",
       "      <th>YearBuilt</th>\n",
       "      <th>GarageArea</th>\n",
       "      <th>TotRmsAbvGrd</th>\n",
       "      <th>GarageCars</th>\n",
       "      <th>GrLivArea</th>\n",
       "      <th>YearRemodAdd</th>\n",
       "      <th>LotFrontage</th>\n",
       "      <th>SalePrice</th>\n",
       "    </tr>\n",
       "  </thead>\n",
       "  <tbody>\n",
       "    <tr>\n",
       "      <th>count</th>\n",
       "      <td>1460.000000</td>\n",
       "      <td>1460.000000</td>\n",
       "      <td>1460.000000</td>\n",
       "      <td>1460.000000</td>\n",
       "      <td>1460.000000</td>\n",
       "      <td>1379.000000</td>\n",
       "      <td>1460.000000</td>\n",
       "      <td>1460.000000</td>\n",
       "      <td>1460.000000</td>\n",
       "      <td>1460.000000</td>\n",
       "      <td>1460.000000</td>\n",
       "      <td>1460.000000</td>\n",
       "      <td>1460.000000</td>\n",
       "      <td>1201.000000</td>\n",
       "      <td>1460.000000</td>\n",
       "    </tr>\n",
       "    <tr>\n",
       "      <th>mean</th>\n",
       "      <td>730.500000</td>\n",
       "      <td>1162.626712</td>\n",
       "      <td>0.613014</td>\n",
       "      <td>1.565068</td>\n",
       "      <td>46.660274</td>\n",
       "      <td>1978.506164</td>\n",
       "      <td>6.099315</td>\n",
       "      <td>1971.267808</td>\n",
       "      <td>472.980137</td>\n",
       "      <td>6.517808</td>\n",
       "      <td>1.767123</td>\n",
       "      <td>1515.463699</td>\n",
       "      <td>1984.865753</td>\n",
       "      <td>70.049958</td>\n",
       "      <td>180921.195890</td>\n",
       "    </tr>\n",
       "    <tr>\n",
       "      <th>std</th>\n",
       "      <td>421.610009</td>\n",
       "      <td>386.587738</td>\n",
       "      <td>0.644666</td>\n",
       "      <td>0.550916</td>\n",
       "      <td>66.256028</td>\n",
       "      <td>24.689725</td>\n",
       "      <td>1.382997</td>\n",
       "      <td>30.202904</td>\n",
       "      <td>213.804841</td>\n",
       "      <td>1.625393</td>\n",
       "      <td>0.747315</td>\n",
       "      <td>525.480383</td>\n",
       "      <td>20.645407</td>\n",
       "      <td>24.284752</td>\n",
       "      <td>79442.502883</td>\n",
       "    </tr>\n",
       "    <tr>\n",
       "      <th>min</th>\n",
       "      <td>1.000000</td>\n",
       "      <td>334.000000</td>\n",
       "      <td>0.000000</td>\n",
       "      <td>0.000000</td>\n",
       "      <td>0.000000</td>\n",
       "      <td>1900.000000</td>\n",
       "      <td>1.000000</td>\n",
       "      <td>1872.000000</td>\n",
       "      <td>0.000000</td>\n",
       "      <td>2.000000</td>\n",
       "      <td>0.000000</td>\n",
       "      <td>334.000000</td>\n",
       "      <td>1950.000000</td>\n",
       "      <td>21.000000</td>\n",
       "      <td>34900.000000</td>\n",
       "    </tr>\n",
       "    <tr>\n",
       "      <th>25%</th>\n",
       "      <td>365.750000</td>\n",
       "      <td>882.000000</td>\n",
       "      <td>0.000000</td>\n",
       "      <td>1.000000</td>\n",
       "      <td>0.000000</td>\n",
       "      <td>1961.000000</td>\n",
       "      <td>5.000000</td>\n",
       "      <td>1954.000000</td>\n",
       "      <td>334.500000</td>\n",
       "      <td>5.000000</td>\n",
       "      <td>1.000000</td>\n",
       "      <td>1129.500000</td>\n",
       "      <td>1967.000000</td>\n",
       "      <td>59.000000</td>\n",
       "      <td>129975.000000</td>\n",
       "    </tr>\n",
       "    <tr>\n",
       "      <th>50%</th>\n",
       "      <td>730.500000</td>\n",
       "      <td>1087.000000</td>\n",
       "      <td>1.000000</td>\n",
       "      <td>2.000000</td>\n",
       "      <td>25.000000</td>\n",
       "      <td>1980.000000</td>\n",
       "      <td>6.000000</td>\n",
       "      <td>1973.000000</td>\n",
       "      <td>480.000000</td>\n",
       "      <td>6.000000</td>\n",
       "      <td>2.000000</td>\n",
       "      <td>1464.000000</td>\n",
       "      <td>1994.000000</td>\n",
       "      <td>69.000000</td>\n",
       "      <td>163000.000000</td>\n",
       "    </tr>\n",
       "    <tr>\n",
       "      <th>75%</th>\n",
       "      <td>1095.250000</td>\n",
       "      <td>1391.250000</td>\n",
       "      <td>1.000000</td>\n",
       "      <td>2.000000</td>\n",
       "      <td>68.000000</td>\n",
       "      <td>2002.000000</td>\n",
       "      <td>7.000000</td>\n",
       "      <td>2000.000000</td>\n",
       "      <td>576.000000</td>\n",
       "      <td>7.000000</td>\n",
       "      <td>2.000000</td>\n",
       "      <td>1776.750000</td>\n",
       "      <td>2004.000000</td>\n",
       "      <td>80.000000</td>\n",
       "      <td>214000.000000</td>\n",
       "    </tr>\n",
       "    <tr>\n",
       "      <th>max</th>\n",
       "      <td>1460.000000</td>\n",
       "      <td>4692.000000</td>\n",
       "      <td>3.000000</td>\n",
       "      <td>3.000000</td>\n",
       "      <td>547.000000</td>\n",
       "      <td>2010.000000</td>\n",
       "      <td>10.000000</td>\n",
       "      <td>2010.000000</td>\n",
       "      <td>1418.000000</td>\n",
       "      <td>14.000000</td>\n",
       "      <td>4.000000</td>\n",
       "      <td>5642.000000</td>\n",
       "      <td>2010.000000</td>\n",
       "      <td>313.000000</td>\n",
       "      <td>755000.000000</td>\n",
       "    </tr>\n",
       "  </tbody>\n",
       "</table>\n",
       "</div>"
      ],
      "text/plain": [
       "                Id     1stFlrSF   Fireplaces     FullBath  OpenPorchSF  \\\n",
       "count  1460.000000  1460.000000  1460.000000  1460.000000  1460.000000   \n",
       "mean    730.500000  1162.626712     0.613014     1.565068    46.660274   \n",
       "std     421.610009   386.587738     0.644666     0.550916    66.256028   \n",
       "min       1.000000   334.000000     0.000000     0.000000     0.000000   \n",
       "25%     365.750000   882.000000     0.000000     1.000000     0.000000   \n",
       "50%     730.500000  1087.000000     1.000000     2.000000    25.000000   \n",
       "75%    1095.250000  1391.250000     1.000000     2.000000    68.000000   \n",
       "max    1460.000000  4692.000000     3.000000     3.000000   547.000000   \n",
       "\n",
       "       GarageYrBlt  OverallQual    YearBuilt   GarageArea  TotRmsAbvGrd  \\\n",
       "count  1379.000000  1460.000000  1460.000000  1460.000000   1460.000000   \n",
       "mean   1978.506164     6.099315  1971.267808   472.980137      6.517808   \n",
       "std      24.689725     1.382997    30.202904   213.804841      1.625393   \n",
       "min    1900.000000     1.000000  1872.000000     0.000000      2.000000   \n",
       "25%    1961.000000     5.000000  1954.000000   334.500000      5.000000   \n",
       "50%    1980.000000     6.000000  1973.000000   480.000000      6.000000   \n",
       "75%    2002.000000     7.000000  2000.000000   576.000000      7.000000   \n",
       "max    2010.000000    10.000000  2010.000000  1418.000000     14.000000   \n",
       "\n",
       "        GarageCars    GrLivArea  YearRemodAdd  LotFrontage      SalePrice  \n",
       "count  1460.000000  1460.000000   1460.000000  1201.000000    1460.000000  \n",
       "mean      1.767123  1515.463699   1984.865753    70.049958  180921.195890  \n",
       "std       0.747315   525.480383     20.645407    24.284752   79442.502883  \n",
       "min       0.000000   334.000000   1950.000000    21.000000   34900.000000  \n",
       "25%       1.000000  1129.500000   1967.000000    59.000000  129975.000000  \n",
       "50%       2.000000  1464.000000   1994.000000    69.000000  163000.000000  \n",
       "75%       2.000000  1776.750000   2004.000000    80.000000  214000.000000  \n",
       "max       4.000000  5642.000000   2010.000000   313.000000  755000.000000  "
      ]
     },
     "execution_count": 13,
     "metadata": {},
     "output_type": "execute_result"
    }
   ],
   "source": [
    "df.describe()"
   ]
  },
  {
   "cell_type": "code",
   "execution_count": 14,
   "metadata": {},
   "outputs": [
    {
     "data": {
      "text/html": [
       "<div>\n",
       "<style scoped>\n",
       "    .dataframe tbody tr th:only-of-type {\n",
       "        vertical-align: middle;\n",
       "    }\n",
       "\n",
       "    .dataframe tbody tr th {\n",
       "        vertical-align: top;\n",
       "    }\n",
       "\n",
       "    .dataframe thead th {\n",
       "        text-align: right;\n",
       "    }\n",
       "</style>\n",
       "<table border=\"1\" class=\"dataframe\">\n",
       "  <thead>\n",
       "    <tr style=\"text-align: right;\">\n",
       "      <th></th>\n",
       "      <th>Id</th>\n",
       "      <th>1stFlrSF</th>\n",
       "      <th>Fireplaces</th>\n",
       "      <th>FullBath</th>\n",
       "      <th>OpenPorchSF</th>\n",
       "      <th>GarageYrBlt</th>\n",
       "      <th>OverallQual</th>\n",
       "      <th>YearBuilt</th>\n",
       "      <th>GarageArea</th>\n",
       "      <th>TotRmsAbvGrd</th>\n",
       "      <th>GarageCars</th>\n",
       "      <th>GrLivArea</th>\n",
       "      <th>YearRemodAdd</th>\n",
       "      <th>LotFrontage</th>\n",
       "      <th>SalePrice</th>\n",
       "    </tr>\n",
       "  </thead>\n",
       "  <tbody>\n",
       "    <tr>\n",
       "      <th>count</th>\n",
       "      <td>1460.000000</td>\n",
       "      <td>1460.000000</td>\n",
       "      <td>1460.000000</td>\n",
       "      <td>1460.000000</td>\n",
       "      <td>1460.000000</td>\n",
       "      <td>1379.000000</td>\n",
       "      <td>1460.000000</td>\n",
       "      <td>1460.000000</td>\n",
       "      <td>1460.000000</td>\n",
       "      <td>1460.000000</td>\n",
       "      <td>1460.000000</td>\n",
       "      <td>1460.000000</td>\n",
       "      <td>1460.000000</td>\n",
       "      <td>1201.000000</td>\n",
       "      <td>1460.000000</td>\n",
       "    </tr>\n",
       "    <tr>\n",
       "      <th>mean</th>\n",
       "      <td>730.500000</td>\n",
       "      <td>1162.626712</td>\n",
       "      <td>0.613014</td>\n",
       "      <td>1.565068</td>\n",
       "      <td>46.660274</td>\n",
       "      <td>1978.506164</td>\n",
       "      <td>6.099315</td>\n",
       "      <td>1971.267808</td>\n",
       "      <td>472.980137</td>\n",
       "      <td>6.517808</td>\n",
       "      <td>1.767123</td>\n",
       "      <td>1515.463699</td>\n",
       "      <td>1984.865753</td>\n",
       "      <td>70.049958</td>\n",
       "      <td>180921.195890</td>\n",
       "    </tr>\n",
       "    <tr>\n",
       "      <th>std</th>\n",
       "      <td>421.610009</td>\n",
       "      <td>386.587738</td>\n",
       "      <td>0.644666</td>\n",
       "      <td>0.550916</td>\n",
       "      <td>66.256028</td>\n",
       "      <td>24.689725</td>\n",
       "      <td>1.382997</td>\n",
       "      <td>30.202904</td>\n",
       "      <td>213.804841</td>\n",
       "      <td>1.625393</td>\n",
       "      <td>0.747315</td>\n",
       "      <td>525.480383</td>\n",
       "      <td>20.645407</td>\n",
       "      <td>24.284752</td>\n",
       "      <td>79442.502883</td>\n",
       "    </tr>\n",
       "    <tr>\n",
       "      <th>min</th>\n",
       "      <td>1.000000</td>\n",
       "      <td>334.000000</td>\n",
       "      <td>0.000000</td>\n",
       "      <td>0.000000</td>\n",
       "      <td>0.000000</td>\n",
       "      <td>1900.000000</td>\n",
       "      <td>1.000000</td>\n",
       "      <td>1872.000000</td>\n",
       "      <td>0.000000</td>\n",
       "      <td>2.000000</td>\n",
       "      <td>0.000000</td>\n",
       "      <td>334.000000</td>\n",
       "      <td>1950.000000</td>\n",
       "      <td>21.000000</td>\n",
       "      <td>34900.000000</td>\n",
       "    </tr>\n",
       "    <tr>\n",
       "      <th>25%</th>\n",
       "      <td>365.750000</td>\n",
       "      <td>882.000000</td>\n",
       "      <td>0.000000</td>\n",
       "      <td>1.000000</td>\n",
       "      <td>0.000000</td>\n",
       "      <td>1961.000000</td>\n",
       "      <td>5.000000</td>\n",
       "      <td>1954.000000</td>\n",
       "      <td>334.500000</td>\n",
       "      <td>5.000000</td>\n",
       "      <td>1.000000</td>\n",
       "      <td>1129.500000</td>\n",
       "      <td>1967.000000</td>\n",
       "      <td>59.000000</td>\n",
       "      <td>129975.000000</td>\n",
       "    </tr>\n",
       "    <tr>\n",
       "      <th>50%</th>\n",
       "      <td>730.500000</td>\n",
       "      <td>1087.000000</td>\n",
       "      <td>1.000000</td>\n",
       "      <td>2.000000</td>\n",
       "      <td>25.000000</td>\n",
       "      <td>1980.000000</td>\n",
       "      <td>6.000000</td>\n",
       "      <td>1973.000000</td>\n",
       "      <td>480.000000</td>\n",
       "      <td>6.000000</td>\n",
       "      <td>2.000000</td>\n",
       "      <td>1464.000000</td>\n",
       "      <td>1994.000000</td>\n",
       "      <td>69.000000</td>\n",
       "      <td>163000.000000</td>\n",
       "    </tr>\n",
       "    <tr>\n",
       "      <th>75%</th>\n",
       "      <td>1095.250000</td>\n",
       "      <td>1391.250000</td>\n",
       "      <td>1.000000</td>\n",
       "      <td>2.000000</td>\n",
       "      <td>68.000000</td>\n",
       "      <td>2002.000000</td>\n",
       "      <td>7.000000</td>\n",
       "      <td>2000.000000</td>\n",
       "      <td>576.000000</td>\n",
       "      <td>7.000000</td>\n",
       "      <td>2.000000</td>\n",
       "      <td>1776.750000</td>\n",
       "      <td>2004.000000</td>\n",
       "      <td>80.000000</td>\n",
       "      <td>214000.000000</td>\n",
       "    </tr>\n",
       "    <tr>\n",
       "      <th>max</th>\n",
       "      <td>1460.000000</td>\n",
       "      <td>4692.000000</td>\n",
       "      <td>3.000000</td>\n",
       "      <td>3.000000</td>\n",
       "      <td>547.000000</td>\n",
       "      <td>2010.000000</td>\n",
       "      <td>10.000000</td>\n",
       "      <td>2010.000000</td>\n",
       "      <td>1418.000000</td>\n",
       "      <td>14.000000</td>\n",
       "      <td>4.000000</td>\n",
       "      <td>5642.000000</td>\n",
       "      <td>2010.000000</td>\n",
       "      <td>313.000000</td>\n",
       "      <td>755000.000000</td>\n",
       "    </tr>\n",
       "  </tbody>\n",
       "</table>\n",
       "</div>"
      ],
      "text/plain": [
       "                Id     1stFlrSF   Fireplaces     FullBath  OpenPorchSF  \\\n",
       "count  1460.000000  1460.000000  1460.000000  1460.000000  1460.000000   \n",
       "mean    730.500000  1162.626712     0.613014     1.565068    46.660274   \n",
       "std     421.610009   386.587738     0.644666     0.550916    66.256028   \n",
       "min       1.000000   334.000000     0.000000     0.000000     0.000000   \n",
       "25%     365.750000   882.000000     0.000000     1.000000     0.000000   \n",
       "50%     730.500000  1087.000000     1.000000     2.000000    25.000000   \n",
       "75%    1095.250000  1391.250000     1.000000     2.000000    68.000000   \n",
       "max    1460.000000  4692.000000     3.000000     3.000000   547.000000   \n",
       "\n",
       "       GarageYrBlt  OverallQual    YearBuilt   GarageArea  TotRmsAbvGrd  \\\n",
       "count  1379.000000  1460.000000  1460.000000  1460.000000   1460.000000   \n",
       "mean   1978.506164     6.099315  1971.267808   472.980137      6.517808   \n",
       "std      24.689725     1.382997    30.202904   213.804841      1.625393   \n",
       "min    1900.000000     1.000000  1872.000000     0.000000      2.000000   \n",
       "25%    1961.000000     5.000000  1954.000000   334.500000      5.000000   \n",
       "50%    1980.000000     6.000000  1973.000000   480.000000      6.000000   \n",
       "75%    2002.000000     7.000000  2000.000000   576.000000      7.000000   \n",
       "max    2010.000000    10.000000  2010.000000  1418.000000     14.000000   \n",
       "\n",
       "        GarageCars    GrLivArea  YearRemodAdd  LotFrontage      SalePrice  \n",
       "count  1460.000000  1460.000000   1460.000000  1201.000000    1460.000000  \n",
       "mean      1.767123  1515.463699   1984.865753    70.049958  180921.195890  \n",
       "std       0.747315   525.480383     20.645407    24.284752   79442.502883  \n",
       "min       0.000000   334.000000   1950.000000    21.000000   34900.000000  \n",
       "25%       1.000000  1129.500000   1967.000000    59.000000  129975.000000  \n",
       "50%       2.000000  1464.000000   1994.000000    69.000000  163000.000000  \n",
       "75%       2.000000  1776.750000   2004.000000    80.000000  214000.000000  \n",
       "max       4.000000  5642.000000   2010.000000   313.000000  755000.000000  "
      ]
     },
     "execution_count": 14,
     "metadata": {},
     "output_type": "execute_result"
    }
   ],
   "source": [
    "df.select_dtypes(include=['int64','float64']).describe()"
   ]
  },
  {
   "cell_type": "markdown",
   "metadata": {},
   "source": [
    "###  2. Preprocessing\n",
    "\n",
    "Use techniques that you have learned to preprocess the data. For example, \n",
    "-  Remove non-informative features\n",
    "-  Remove features with too many NA\n",
    "-  Remove rows with incomplete data\n",
    "-  Remove features with highly unbalanced labels\n",
    "-  Encode categorical variables as appropriate"
   ]
  },
  {
   "cell_type": "code",
   "execution_count": 15,
   "metadata": {},
   "outputs": [],
   "source": [
    "df_copy = df.copy()"
   ]
  },
  {
   "cell_type": "code",
   "execution_count": 16,
   "metadata": {},
   "outputs": [
    {
     "data": {
      "text/plain": [
       "Id                 0\n",
       "Foundation         0\n",
       "1stFlrSF           0\n",
       "KitchenQual        0\n",
       "Fireplaces         0\n",
       "HeatingQC          0\n",
       "FullBath           0\n",
       "BsmtQual          37\n",
       "OpenPorchSF        0\n",
       "GarageYrBlt       81\n",
       "ExterQual          0\n",
       "OverallQual        0\n",
       "BsmtFinType1      37\n",
       "YearBuilt          0\n",
       "GarageArea         0\n",
       "TotRmsAbvGrd       0\n",
       "GarageCars         0\n",
       "GrLivArea          0\n",
       "YearRemodAdd       0\n",
       "LotFrontage      259\n",
       "Fence           1179\n",
       "SalePrice          0\n",
       "dtype: int64"
      ]
     },
     "execution_count": 16,
     "metadata": {},
     "output_type": "execute_result"
    }
   ],
   "source": [
    "df_copy.isnull().sum() #check null"
   ]
  },
  {
   "cell_type": "code",
   "execution_count": 17,
   "metadata": {},
   "outputs": [
    {
     "data": {
      "text/plain": [
       "81"
      ]
     },
     "execution_count": 17,
     "metadata": {},
     "output_type": "execute_result"
    }
   ],
   "source": [
    "df_copy['GarageYrBlt'].isnull().sum()\n"
   ]
  },
  {
   "cell_type": "code",
   "execution_count": 18,
   "metadata": {},
   "outputs": [],
   "source": [
    "del df_copy['Fence'] "
   ]
  },
  {
   "cell_type": "code",
   "execution_count": 19,
   "metadata": {},
   "outputs": [
    {
     "data": {
      "text/plain": [
       "Id                0\n",
       "Foundation        0\n",
       "1stFlrSF          0\n",
       "KitchenQual       0\n",
       "Fireplaces        0\n",
       "HeatingQC         0\n",
       "FullBath          0\n",
       "BsmtQual         37\n",
       "OpenPorchSF       0\n",
       "GarageYrBlt      81\n",
       "ExterQual         0\n",
       "OverallQual       0\n",
       "BsmtFinType1     37\n",
       "YearBuilt         0\n",
       "GarageArea        0\n",
       "TotRmsAbvGrd      0\n",
       "GarageCars        0\n",
       "GrLivArea         0\n",
       "YearRemodAdd      0\n",
       "LotFrontage     259\n",
       "SalePrice         0\n",
       "dtype: int64"
      ]
     },
     "execution_count": 19,
     "metadata": {},
     "output_type": "execute_result"
    }
   ],
   "source": [
    "df_copy.isnull().sum()"
   ]
  },
  {
   "cell_type": "code",
   "execution_count": 20,
   "metadata": {},
   "outputs": [
    {
     "data": {
      "text/plain": [
       "0        65.0\n",
       "1        80.0\n",
       "2        68.0\n",
       "3        60.0\n",
       "4        84.0\n",
       "5        85.0\n",
       "6        75.0\n",
       "7         NaN\n",
       "8        51.0\n",
       "9        50.0\n",
       "10       70.0\n",
       "11       85.0\n",
       "12        NaN\n",
       "13       91.0\n",
       "14        NaN\n",
       "15       51.0\n",
       "16        NaN\n",
       "17       72.0\n",
       "18       66.0\n",
       "19       70.0\n",
       "20      101.0\n",
       "21       57.0\n",
       "22       75.0\n",
       "23       44.0\n",
       "24        NaN\n",
       "25      110.0\n",
       "26       60.0\n",
       "27       98.0\n",
       "28       47.0\n",
       "29       60.0\n",
       "        ...  \n",
       "1430     60.0\n",
       "1431      NaN\n",
       "1432     60.0\n",
       "1433     93.0\n",
       "1434     80.0\n",
       "1435     80.0\n",
       "1436     60.0\n",
       "1437     96.0\n",
       "1438     90.0\n",
       "1439     80.0\n",
       "1440     79.0\n",
       "1441      NaN\n",
       "1442     85.0\n",
       "1443      NaN\n",
       "1444     63.0\n",
       "1445     70.0\n",
       "1446      NaN\n",
       "1447     80.0\n",
       "1448     70.0\n",
       "1449     21.0\n",
       "1450     60.0\n",
       "1451     78.0\n",
       "1452     35.0\n",
       "1453     90.0\n",
       "1454     62.0\n",
       "1455     62.0\n",
       "1456     85.0\n",
       "1457     66.0\n",
       "1458     68.0\n",
       "1459     75.0\n",
       "Name: LotFrontage, Length: 1460, dtype: float64"
      ]
     },
     "execution_count": 20,
     "metadata": {},
     "output_type": "execute_result"
    }
   ],
   "source": [
    "df_copy['LotFrontage']"
   ]
  },
  {
   "cell_type": "code",
   "execution_count": 21,
   "metadata": {},
   "outputs": [
    {
     "data": {
      "text/plain": [
       "(1460, 21)"
      ]
     },
     "execution_count": 21,
     "metadata": {},
     "output_type": "execute_result"
    }
   ],
   "source": [
    "df_copy.isnull().shape"
   ]
  },
  {
   "cell_type": "code",
   "execution_count": 22,
   "metadata": {},
   "outputs": [
    {
     "data": {
      "text/html": [
       "<div>\n",
       "<style scoped>\n",
       "    .dataframe tbody tr th:only-of-type {\n",
       "        vertical-align: middle;\n",
       "    }\n",
       "\n",
       "    .dataframe tbody tr th {\n",
       "        vertical-align: top;\n",
       "    }\n",
       "\n",
       "    .dataframe thead th {\n",
       "        text-align: right;\n",
       "    }\n",
       "</style>\n",
       "<table border=\"1\" class=\"dataframe\">\n",
       "  <thead>\n",
       "    <tr style=\"text-align: right;\">\n",
       "      <th></th>\n",
       "      <th>Foundation</th>\n",
       "      <th>KitchenQual</th>\n",
       "      <th>HeatingQC</th>\n",
       "      <th>BsmtQual</th>\n",
       "      <th>ExterQual</th>\n",
       "      <th>BsmtFinType1</th>\n",
       "    </tr>\n",
       "  </thead>\n",
       "  <tbody>\n",
       "    <tr>\n",
       "      <th>count</th>\n",
       "      <td>1460</td>\n",
       "      <td>1460</td>\n",
       "      <td>1460</td>\n",
       "      <td>1423</td>\n",
       "      <td>1460</td>\n",
       "      <td>1423</td>\n",
       "    </tr>\n",
       "    <tr>\n",
       "      <th>unique</th>\n",
       "      <td>6</td>\n",
       "      <td>4</td>\n",
       "      <td>5</td>\n",
       "      <td>4</td>\n",
       "      <td>4</td>\n",
       "      <td>6</td>\n",
       "    </tr>\n",
       "    <tr>\n",
       "      <th>top</th>\n",
       "      <td>PConc</td>\n",
       "      <td>TA</td>\n",
       "      <td>Ex</td>\n",
       "      <td>TA</td>\n",
       "      <td>TA</td>\n",
       "      <td>Unf</td>\n",
       "    </tr>\n",
       "    <tr>\n",
       "      <th>freq</th>\n",
       "      <td>647</td>\n",
       "      <td>735</td>\n",
       "      <td>741</td>\n",
       "      <td>649</td>\n",
       "      <td>906</td>\n",
       "      <td>430</td>\n",
       "    </tr>\n",
       "  </tbody>\n",
       "</table>\n",
       "</div>"
      ],
      "text/plain": [
       "       Foundation KitchenQual HeatingQC BsmtQual ExterQual BsmtFinType1\n",
       "count        1460        1460      1460     1423      1460         1423\n",
       "unique          6           4         5        4         4            6\n",
       "top         PConc          TA        Ex       TA        TA          Unf\n",
       "freq          647         735       741      649       906          430"
      ]
     },
     "execution_count": 22,
     "metadata": {},
     "output_type": "execute_result"
    }
   ],
   "source": [
    "df_copy.select_dtypes(include=['object']).describe()"
   ]
  },
  {
   "cell_type": "code",
   "execution_count": 23,
   "metadata": {},
   "outputs": [],
   "source": [
    "df_copy = df_copy.dropna(subset=['BsmtQual','BsmtFinType1','GarageYrBlt','LotFrontage'])"
   ]
  },
  {
   "cell_type": "code",
   "execution_count": 24,
   "metadata": {},
   "outputs": [
    {
     "data": {
      "text/plain": [
       "<matplotlib.axes._subplots.AxesSubplot at 0x225db9bbac8>"
      ]
     },
     "execution_count": 24,
     "metadata": {},
     "output_type": "execute_result"
    }
   ],
   "source": [
    "df_copy.SalePrice.hist()"
   ]
  },
  {
   "cell_type": "code",
   "execution_count": 25,
   "metadata": {},
   "outputs": [],
   "source": [
    "df_copy['SalePrice_HL'] = pd.qcut(df_copy.SalePrice,q=[0,0.5,1],labels=['Low','High'])"
   ]
  },
  {
   "cell_type": "code",
   "execution_count": 26,
   "metadata": {},
   "outputs": [
    {
     "data": {
      "text/plain": [
       "<bound method DataFrame.info of         Id Foundation  1stFlrSF KitchenQual  Fireplaces HeatingQC  FullBath  \\\n",
       "0        1      PConc       856          Gd           0        Ex         2   \n",
       "1        2     CBlock      1262          TA           1        Ex         2   \n",
       "2        3      PConc       920          Gd           1        Ex         2   \n",
       "3        4     BrkTil       961          Gd           1        Gd         1   \n",
       "4        5      PConc      1145          Gd           1        Ex         2   \n",
       "5        6       Wood       796          TA           0        Ex         1   \n",
       "6        7      PConc      1694          Gd           1        Ex         2   \n",
       "8        9     BrkTil      1022          TA           2        Gd         2   \n",
       "9       10     BrkTil      1077          TA           2        Ex         1   \n",
       "10      11     CBlock      1040          TA           0        Ex         1   \n",
       "11      12      PConc      1182          Ex           2        Ex         3   \n",
       "13      14      PConc      1494          Gd           1        Ex         2   \n",
       "15      16     BrkTil       854          TA           0        Ex         1   \n",
       "18      19      PConc      1114          Gd           0        Ex         1   \n",
       "19      20     CBlock      1339          TA           0        TA         1   \n",
       "20      21      PConc      1158          Gd           1        Ex         3   \n",
       "21      22      PConc      1108          Gd           1        Ex         1   \n",
       "22      23      PConc      1795          Gd           1        Ex         2   \n",
       "23      24      PConc      1060          TA           1        TA         1   \n",
       "25      26      PConc      1600          Gd           1        Ex         2   \n",
       "26      27     CBlock       900          Gd           0        TA         1   \n",
       "27      28      PConc      1704          Gd           1        Ex         2   \n",
       "28      29     CBlock      1600          TA           2        TA         1   \n",
       "29      30     BrkTil       520          Fa           0        Fa         1   \n",
       "30      31     BrkTil       649          TA           0        TA         1   \n",
       "32      33      PConc      1234          Gd           0        Ex         2   \n",
       "33      34     CBlock      1700          Gd           1        Gd         1   \n",
       "34      35      PConc      1561          Ex           1        Ex         2   \n",
       "35      36      PConc      1132          Gd           1        Ex         3   \n",
       "36      37      PConc      1097          TA           0        Ex         1   \n",
       "...    ...        ...       ...         ...         ...       ...       ...   \n",
       "1420  1421     CBlock       708          TA           1        Gd         2   \n",
       "1421  1422     CBlock      1069          TA           1        TA         2   \n",
       "1422  1423      PConc       848          Gd           0        Ex         1   \n",
       "1425  1426     CBlock      1252          Gd           0        Ex         1   \n",
       "1426  1427      PConc      1223          Gd           2        Ex         2   \n",
       "1427  1428     CBlock      1048          TA           1        TA         1   \n",
       "1428  1429     CBlock       804          Gd           2        TA         1   \n",
       "1430  1431      PConc       734          TA           1        Ex         2   \n",
       "1432  1433     BrkTil       968          TA           0        TA         2   \n",
       "1433  1434      PConc       962          TA           1        Ex         2   \n",
       "1434  1435     CBlock      1126          TA           1        Fa         2   \n",
       "1435  1436     CBlock      1537          Gd           1        TA         1   \n",
       "1436  1437      PConc       864          TA           0        TA         1   \n",
       "1437  1438      PConc      1932          Ex           1        Ex         2   \n",
       "1438  1439     CBlock      1236          TA           0        TA         1   \n",
       "1439  1440     CBlock      1040          TA           1        TA         2   \n",
       "1440  1441     BrkTil      1423          TA           1        Fa         2   \n",
       "1442  1443      PConc      1026          Ex           1        Ex         2   \n",
       "1444  1445      PConc      1422          Gd           0        Ex         2   \n",
       "1445  1446     CBlock       913          TA           0        Gd         1   \n",
       "1447  1448      PConc      1220          Gd           1        Ex         2   \n",
       "1448  1449     CBlock       796          TA           0        Gd         1   \n",
       "1451  1452      PConc      1578          Ex           1        Ex         2   \n",
       "1452  1453      PConc      1072          TA           0        Gd         1   \n",
       "1454  1455      PConc      1221          Gd           0        Ex         2   \n",
       "1455  1456      PConc       953          TA           1        Ex         2   \n",
       "1456  1457     CBlock      2073          TA           2        TA         2   \n",
       "1457  1458      Stone      1188          Gd           2        Ex         2   \n",
       "1458  1459     CBlock      1078          Gd           0        Gd         1   \n",
       "1459  1460     CBlock      1256          TA           0        Gd         1   \n",
       "\n",
       "     BsmtQual  OpenPorchSF  GarageYrBlt      ...      BsmtFinType1  YearBuilt  \\\n",
       "0          Gd           61       2003.0      ...               GLQ       2003   \n",
       "1          Gd            0       1976.0      ...               ALQ       1976   \n",
       "2          Gd           42       2001.0      ...               GLQ       2001   \n",
       "3          TA           35       1998.0      ...               ALQ       1915   \n",
       "4          Gd           84       2000.0      ...               GLQ       2000   \n",
       "5          Gd           30       1993.0      ...               GLQ       1993   \n",
       "6          Ex           57       2004.0      ...               GLQ       2004   \n",
       "8          TA            0       1931.0      ...               Unf       1931   \n",
       "9          TA            4       1939.0      ...               GLQ       1939   \n",
       "10         TA            0       1965.0      ...               Rec       1965   \n",
       "11         Ex           21       2005.0      ...               GLQ       2005   \n",
       "13         Gd           33       2006.0      ...               Unf       2006   \n",
       "15         TA          112       1991.0      ...               Unf       1929   \n",
       "18         TA          102       2004.0      ...               GLQ       2004   \n",
       "19         TA            0       1958.0      ...               LwQ       1958   \n",
       "20         Ex          154       2005.0      ...               Unf       2005   \n",
       "21         TA            0       1930.0      ...               Unf       1930   \n",
       "22         Gd          159       2002.0      ...               Unf       2002   \n",
       "23         Gd          110       1976.0      ...               GLQ       1976   \n",
       "25         Gd           56       2007.0      ...               Unf       2007   \n",
       "26         TA           32       2005.0      ...               BLQ       1951   \n",
       "27         Ex           50       2008.0      ...               GLQ       2007   \n",
       "28         TA          258       1957.0      ...               BLQ       1957   \n",
       "29         TA            0       1920.0      ...               Unf       1927   \n",
       "30         TA           54       1920.0      ...               Unf       1920   \n",
       "32         Ex           30       2007.0      ...               Unf       2007   \n",
       "33         TA           38       1959.0      ...               Rec       1959   \n",
       "34         Ex           47       2005.0      ...               GLQ       2005   \n",
       "35         Ex           32       2004.0      ...               Unf       2004   \n",
       "36         Gd           64       1995.0      ...               Unf       1994   \n",
       "...       ...          ...          ...      ...               ...        ...   \n",
       "1420       TA          169       1968.0      ...               ALQ       1968   \n",
       "1421       Gd           55       1977.0      ...               ALQ       1977   \n",
       "1422       Gd            0       2003.0      ...               GLQ       2003   \n",
       "1425       TA           39       1960.0      ...               Unf       1959   \n",
       "1426       Gd          132       1994.0      ...               GLQ       1994   \n",
       "1427       TA            0       1962.0      ...               BLQ       1945   \n",
       "1428       TA            0       1940.0      ...               BLQ       1940   \n",
       "1430       Gd           40       2005.0      ...               Unf       2005   \n",
       "1432       TA            0       1928.0      ...               Unf       1927   \n",
       "1433       Gd            0       2000.0      ...               Unf       2000   \n",
       "1434       TA           41       1977.0      ...               ALQ       1977   \n",
       "1435       TA           36       1962.0      ...               Unf       1962   \n",
       "1436       TA            0       1974.0      ...               ALQ       1971   \n",
       "1437       Ex           66       2008.0      ...               GLQ       2008   \n",
       "1438       TA          158       1957.0      ...               GLQ       1957   \n",
       "1439       TA           88       1979.0      ...               GLQ       1979   \n",
       "1440       Ex            0       1993.0      ...               Unf       1922   \n",
       "1442       Ex           52       2008.0      ...               GLQ       2008   \n",
       "1444       Gd           60       2004.0      ...               Unf       2004   \n",
       "1445       TA            0       1990.0      ...               LwQ       1966   \n",
       "1447       Gd           65       1995.0      ...               GLQ       1995   \n",
       "1448       Fa           24       1950.0      ...               Unf       1910   \n",
       "1451       Gd           36       2008.0      ...               Unf       2008   \n",
       "1452       Gd           28       2005.0      ...               GLQ       2005   \n",
       "1454       Gd          113       2004.0      ...               GLQ       2004   \n",
       "1455       Gd           40       1999.0      ...               Unf       1999   \n",
       "1456       Gd            0       1978.0      ...               ALQ       1978   \n",
       "1457       TA           60       1941.0      ...               GLQ       1941   \n",
       "1458       TA            0       1950.0      ...               GLQ       1950   \n",
       "1459       TA           68       1965.0      ...               BLQ       1965   \n",
       "\n",
       "     GarageArea  TotRmsAbvGrd  GarageCars  GrLivArea  YearRemodAdd  \\\n",
       "0           548             8           2       1710          2003   \n",
       "1           460             6           2       1262          1976   \n",
       "2           608             6           2       1786          2002   \n",
       "3           642             7           3       1717          1970   \n",
       "4           836             9           3       2198          2000   \n",
       "5           480             5           2       1362          1995   \n",
       "6           636             7           2       1694          2005   \n",
       "8           468             8           2       1774          1950   \n",
       "9           205             5           1       1077          1950   \n",
       "10          384             5           1       1040          1965   \n",
       "11          736            11           3       2324          2006   \n",
       "13          840             7           3       1494          2007   \n",
       "15          576             5           2        854          2001   \n",
       "18          576             6           2       1114          2004   \n",
       "19          294             6           1       1339          1965   \n",
       "20          853             9           3       2376          2006   \n",
       "21          280             6           1       1108          1950   \n",
       "22          534             7           2       1795          2002   \n",
       "23          572             6           2       1060          1976   \n",
       "25          890             7           3       1600          2007   \n",
       "26          576             5           2        900          2000   \n",
       "27          772             7           3       1704          2008   \n",
       "28          319             6           1       1600          1997   \n",
       "29          240             4           1        520          1950   \n",
       "30          250             6           1       1317          1950   \n",
       "32          484             7           2       1234          2007   \n",
       "33          447             6           2       1700          1959   \n",
       "34          556             6           2       1561          2005   \n",
       "35          691             9           3       2452          2005   \n",
       "36          672             6           2       1097          1995   \n",
       "...         ...           ...         ...        ...           ...   \n",
       "1420        776             7           2       1416          1968   \n",
       "1421        440             4           2       1069          1977   \n",
       "1422        420             3           2        848          2003   \n",
       "1425        528             7           2       1252          1959   \n",
       "1426        525             5           2       2127          1994   \n",
       "1427        288             6           1       1558          1950   \n",
       "1428        240             4           1        804          1992   \n",
       "1430        372             7           2       1838          2005   \n",
       "1432        216             5           1        968          2007   \n",
       "1433        451             8           2       1792          2000   \n",
       "1434        484             5           2       1126          1977   \n",
       "1435        462             7           2       1537          2005   \n",
       "1436        528             5           2        864          1971   \n",
       "1437        774             7           3       1932          2008   \n",
       "1438        923             6           2       1236          1996   \n",
       "1439        550             6           2       1725          1979   \n",
       "1440        672            11           2       2555          1994   \n",
       "1442        812            10           3       2007          2008   \n",
       "1444        626             7           2       1422          2004   \n",
       "1445        240             6           1        913          1966   \n",
       "1447        556             8           2       2090          1996   \n",
       "1448        384             6           1       1346          2000   \n",
       "1451        840             7           3       1578          2009   \n",
       "1452        525             5           2       1072          2005   \n",
       "1454        400             6           2       1221          2005   \n",
       "1455        460             7           2       1647          2000   \n",
       "1456        500             7           2       2073          1988   \n",
       "1457        252             9           1       2340          2006   \n",
       "1458        240             5           1       1078          1996   \n",
       "1459        276             6           1       1256          1965   \n",
       "\n",
       "      LotFrontage  SalePrice  SalePrice_HL  \n",
       "0            65.0     208500          High  \n",
       "1            80.0     181500          High  \n",
       "2            68.0     223500          High  \n",
       "3            60.0     140000           Low  \n",
       "4            84.0     250000          High  \n",
       "5            85.0     143000           Low  \n",
       "6            75.0     307000          High  \n",
       "8            51.0     129900           Low  \n",
       "9            50.0     118000           Low  \n",
       "10           70.0     129500           Low  \n",
       "11           85.0     345000          High  \n",
       "13           91.0     279500          High  \n",
       "15           51.0     132000           Low  \n",
       "18           66.0     159000           Low  \n",
       "19           70.0     139000           Low  \n",
       "20          101.0     325300          High  \n",
       "21           57.0     139400           Low  \n",
       "22           75.0     230000          High  \n",
       "23           44.0     129900           Low  \n",
       "25          110.0     256300          High  \n",
       "26           60.0     134800           Low  \n",
       "27           98.0     306000          High  \n",
       "28           47.0     207500          High  \n",
       "29           60.0      68500           Low  \n",
       "30           50.0      40000           Low  \n",
       "32           85.0     179900          High  \n",
       "33           70.0     165500           Low  \n",
       "34           60.0     277500          High  \n",
       "35          108.0     309000          High  \n",
       "36          112.0     145000           Low  \n",
       "...           ...        ...           ...  \n",
       "1420         90.0     179900          High  \n",
       "1421         53.0     127500           Low  \n",
       "1422         37.0     136500           Low  \n",
       "1425         80.0     142000           Low  \n",
       "1426         81.0     271000          High  \n",
       "1427         60.0     140000           Low  \n",
       "1428         60.0     119000           Low  \n",
       "1430         60.0     192140          High  \n",
       "1432         60.0      64500           Low  \n",
       "1433         93.0     186500          High  \n",
       "1434         80.0     160000           Low  \n",
       "1435         80.0     174000          High  \n",
       "1436         60.0     120500           Low  \n",
       "1437         96.0     394617          High  \n",
       "1438         90.0     149700           Low  \n",
       "1439         80.0     197000          High  \n",
       "1440         79.0     191000          High  \n",
       "1442         85.0     310000          High  \n",
       "1444         63.0     179600          High  \n",
       "1445         70.0     129000           Low  \n",
       "1447         80.0     240000          High  \n",
       "1448         70.0     112000           Low  \n",
       "1451         78.0     287090          High  \n",
       "1452         35.0     145000           Low  \n",
       "1454         62.0     185000          High  \n",
       "1455         62.0     175000          High  \n",
       "1456         85.0     210000          High  \n",
       "1457         66.0     266500          High  \n",
       "1458         68.0     142125           Low  \n",
       "1459         75.0     147500           Low  \n",
       "\n",
       "[1103 rows x 22 columns]>"
      ]
     },
     "execution_count": 26,
     "metadata": {},
     "output_type": "execute_result"
    }
   ],
   "source": [
    "df_copy.info\n"
   ]
  },
  {
   "cell_type": "code",
   "execution_count": 27,
   "metadata": {},
   "outputs": [],
   "source": [
    "Sale = {'High':1,'Low':0}\n",
    "df_copy['SalePrice_HL'] = df_copy['SalePrice_HL'].replace(Sale)"
   ]
  },
  {
   "cell_type": "code",
   "execution_count": 28,
   "metadata": {},
   "outputs": [
    {
     "data": {
      "text/html": [
       "<div>\n",
       "<style scoped>\n",
       "    .dataframe tbody tr th:only-of-type {\n",
       "        vertical-align: middle;\n",
       "    }\n",
       "\n",
       "    .dataframe tbody tr th {\n",
       "        vertical-align: top;\n",
       "    }\n",
       "\n",
       "    .dataframe thead th {\n",
       "        text-align: right;\n",
       "    }\n",
       "</style>\n",
       "<table border=\"1\" class=\"dataframe\">\n",
       "  <thead>\n",
       "    <tr style=\"text-align: right;\">\n",
       "      <th></th>\n",
       "      <th>Foundation</th>\n",
       "      <th>KitchenQual</th>\n",
       "      <th>HeatingQC</th>\n",
       "      <th>BsmtQual</th>\n",
       "      <th>ExterQual</th>\n",
       "      <th>BsmtFinType1</th>\n",
       "    </tr>\n",
       "  </thead>\n",
       "  <tbody>\n",
       "    <tr>\n",
       "      <th>count</th>\n",
       "      <td>1103</td>\n",
       "      <td>1103</td>\n",
       "      <td>1103</td>\n",
       "      <td>1103</td>\n",
       "      <td>1103</td>\n",
       "      <td>1103</td>\n",
       "    </tr>\n",
       "    <tr>\n",
       "      <th>unique</th>\n",
       "      <td>5</td>\n",
       "      <td>4</td>\n",
       "      <td>5</td>\n",
       "      <td>4</td>\n",
       "      <td>4</td>\n",
       "      <td>6</td>\n",
       "    </tr>\n",
       "    <tr>\n",
       "      <th>top</th>\n",
       "      <td>PConc</td>\n",
       "      <td>TA</td>\n",
       "      <td>Ex</td>\n",
       "      <td>TA</td>\n",
       "      <td>TA</td>\n",
       "      <td>Unf</td>\n",
       "    </tr>\n",
       "    <tr>\n",
       "      <th>freq</th>\n",
       "      <td>527</td>\n",
       "      <td>528</td>\n",
       "      <td>602</td>\n",
       "      <td>486</td>\n",
       "      <td>647</td>\n",
       "      <td>347</td>\n",
       "    </tr>\n",
       "  </tbody>\n",
       "</table>\n",
       "</div>"
      ],
      "text/plain": [
       "       Foundation KitchenQual HeatingQC BsmtQual ExterQual BsmtFinType1\n",
       "count        1103        1103      1103     1103      1103         1103\n",
       "unique          5           4         5        4         4            6\n",
       "top         PConc          TA        Ex       TA        TA          Unf\n",
       "freq          527         528       602      486       647          347"
      ]
     },
     "execution_count": 28,
     "metadata": {},
     "output_type": "execute_result"
    }
   ],
   "source": [
    "df_copy.select_dtypes(include=['object']).describe()"
   ]
  },
  {
   "cell_type": "code",
   "execution_count": 29,
   "metadata": {},
   "outputs": [],
   "source": [
    "df_copy2 = df_copy.copy()"
   ]
  },
  {
   "cell_type": "code",
   "execution_count": 30,
   "metadata": {},
   "outputs": [],
   "source": [
    "quality  = {'Po':0 ,'Fa':1,'TA':2,'Gd':3,'Ex':4}\n",
    "df_copy2['KitchenQual'] = df_copy2['KitchenQual'].replace(quality)\n",
    "df_copy2['HeatingQC'] = df_copy2['HeatingQC'].replace(quality)\n",
    "df_copy2['BsmtQual'] = df_copy2['BsmtQual'].replace(quality)\n",
    "df_copy2['ExterQual'] = df_copy2['ExterQual'].replace(quality)"
   ]
  },
  {
   "cell_type": "code",
   "execution_count": 31,
   "metadata": {},
   "outputs": [],
   "source": [
    "quality2  = {'NA':0 ,'Unf':1,'LwQ':2,'Rec':3,'BLQ':4,'ALQ':5,'GLQ':6}\n",
    "df_copy2['BsmtFinType1'] = df_copy2['BsmtFinType1'].replace(quality2)\n"
   ]
  },
  {
   "cell_type": "code",
   "execution_count": 32,
   "metadata": {},
   "outputs": [],
   "source": [
    "df_copy3 = pd.get_dummies(df_copy2,columns = ['Foundation'])"
   ]
  },
  {
   "cell_type": "markdown",
   "metadata": {},
   "source": [
    "### 3. Model Training \n",
    "We will use Scikit-learn package to build a model.\n",
    "- http://scikit-learn.org/stable/\n",
    "\n",
    "Model Evaluation Method\n",
    "- Split into train set and test set"
   ]
  },
  {
   "cell_type": "code",
   "execution_count": 33,
   "metadata": {},
   "outputs": [],
   "source": [
    "traindata_x = df_copy3.drop(['SalePrice','SalePrice_HL','Id'],axis = 1)\n",
    "traindata_y = df_copy3.SalePrice_HL"
   ]
  },
  {
   "cell_type": "code",
   "execution_count": 34,
   "metadata": {},
   "outputs": [
    {
     "name": "stdout",
     "output_type": "stream",
     "text": [
      "<class 'pandas.core.frame.DataFrame'>\n",
      "Int64Index: 1103 entries, 0 to 1459\n",
      "Data columns (total 23 columns):\n",
      "1stFlrSF             1103 non-null int64\n",
      "KitchenQual          1103 non-null int64\n",
      "Fireplaces           1103 non-null int64\n",
      "HeatingQC            1103 non-null int64\n",
      "FullBath             1103 non-null int64\n",
      "BsmtQual             1103 non-null int64\n",
      "OpenPorchSF          1103 non-null int64\n",
      "GarageYrBlt          1103 non-null float64\n",
      "ExterQual            1103 non-null int64\n",
      "OverallQual          1103 non-null int64\n",
      "BsmtFinType1         1103 non-null int64\n",
      "YearBuilt            1103 non-null int64\n",
      "GarageArea           1103 non-null int64\n",
      "TotRmsAbvGrd         1103 non-null int64\n",
      "GarageCars           1103 non-null int64\n",
      "GrLivArea            1103 non-null int64\n",
      "YearRemodAdd         1103 non-null int64\n",
      "LotFrontage          1103 non-null float64\n",
      "Foundation_BrkTil    1103 non-null uint8\n",
      "Foundation_CBlock    1103 non-null uint8\n",
      "Foundation_PConc     1103 non-null uint8\n",
      "Foundation_Stone     1103 non-null uint8\n",
      "Foundation_Wood      1103 non-null uint8\n",
      "dtypes: float64(2), int64(16), uint8(5)\n",
      "memory usage: 169.1 KB\n"
     ]
    }
   ],
   "source": [
    "traindata_x.info()"
   ]
  },
  {
   "cell_type": "code",
   "execution_count": 35,
   "metadata": {},
   "outputs": [],
   "source": [
    "from sklearn.model_selection import train_test_split\n",
    "x_train , x_test , y_train , y_test = train_test_split(traindata_x,traindata_y,test_size = 0.4,random_state = 0)"
   ]
  },
  {
   "cell_type": "code",
   "execution_count": 36,
   "metadata": {},
   "outputs": [
    {
     "name": "stdout",
     "output_type": "stream",
     "text": [
      "(661, 23) (661,)\n",
      "(442, 23) (442,)\n"
     ]
    }
   ],
   "source": [
    "print(x_train.shape,y_train.shape)\n",
    "print(x_test.shape,y_test.shape)"
   ]
  },
  {
   "cell_type": "code",
   "execution_count": 37,
   "metadata": {},
   "outputs": [],
   "source": [
    "from sklearn.preprocessing import StandardScaler\n",
    "sc = StandardScaler()\n",
    "x_train = sc.fit_transform(x_train)\n",
    "x_test = sc.transform(x_test)"
   ]
  },
  {
   "cell_type": "markdown",
   "metadata": {},
   "source": [
    "- Fit Logistic Regression model"
   ]
  },
  {
   "cell_type": "code",
   "execution_count": 38,
   "metadata": {},
   "outputs": [
    {
     "data": {
      "text/plain": [
       "LogisticRegression(C=1.0, class_weight=None, dual=False, fit_intercept=True,\n",
       "          intercept_scaling=1, max_iter=100, multi_class='ovr', n_jobs=1,\n",
       "          penalty='l2', random_state=None, solver='liblinear', tol=0.0001,\n",
       "          verbose=0, warm_start=False)"
      ]
     },
     "execution_count": 38,
     "metadata": {},
     "output_type": "execute_result"
    }
   ],
   "source": [
    "from sklearn import linear_model\n",
    "lr = linear_model.LogisticRegression()\n",
    "lr.fit(x_train,y_train)"
   ]
  },
  {
   "cell_type": "markdown",
   "metadata": {},
   "source": [
    "### 4. Model Tuning &  Result Analysis \n",
    "\n",
    "Analyze the model results. Do you think the model is good enough? <br>\n",
    "Does it overfit or underfit the data? <br>\n",
    "Explain and provide evidence to support your claims."
   ]
  },
  {
   "cell_type": "markdown",
   "metadata": {},
   "source": [
    "Does it overfit or underfit the data?  Explain and provide evidence to support your claims\n",
    "Ans underfit because accuracy of train data and test data not different\n",
    "\n"
   ]
  },
  {
   "cell_type": "code",
   "execution_count": 39,
   "metadata": {},
   "outputs": [
    {
     "name": "stdout",
     "output_type": "stream",
     "text": [
      "Accuracy from train dataset :93.04084720121028\n"
     ]
    }
   ],
   "source": [
    "yhat_train = lr.predict(x_train)\n",
    "from sklearn.metrics import accuracy_score\n",
    "acc_train = accuracy_score(y_train,yhat_train)\n",
    "print(\"Accuracy from train dataset :\"+str(acc_train*100))"
   ]
  },
  {
   "cell_type": "code",
   "execution_count": 40,
   "metadata": {},
   "outputs": [
    {
     "name": "stdout",
     "output_type": "stream",
     "text": [
      "Accuracy from test dataset :91.6289592760181\n"
     ]
    }
   ],
   "source": [
    "yhat_test = lr.predict(x_test)\n",
    "\n",
    "acc_test = accuracy_score(y_test,yhat_test)\n",
    "print(\"Accuracy from test dataset :\"+str(acc_test*100))"
   ]
  },
  {
   "cell_type": "code",
   "execution_count": 41,
   "metadata": {},
   "outputs": [
    {
     "name": "stdout",
     "output_type": "stream",
     "text": [
      "confusion matrix from train data set\n",
      "\n",
      "[[292  26]\n",
      " [ 20 323]]\n"
     ]
    }
   ],
   "source": [
    "from sklearn.metrics import confusion_matrix\n",
    "print(\"confusion matrix from train data set\\n\")\n",
    "print(confusion_matrix(y_train,yhat_train))"
   ]
  },
  {
   "cell_type": "code",
   "execution_count": 42,
   "metadata": {},
   "outputs": [
    {
     "name": "stdout",
     "output_type": "stream",
     "text": [
      "confusion matrix from test data set\n",
      "\n",
      "[[215  20]\n",
      " [ 17 190]]\n"
     ]
    }
   ],
   "source": [
    "from sklearn.metrics import confusion_matrix\n",
    "print(\"confusion matrix from test data set\\n\")\n",
    "print(confusion_matrix(y_test,yhat_test))"
   ]
  },
  {
   "cell_type": "code",
   "execution_count": 48,
   "metadata": {},
   "outputs": [
    {
     "name": "stdout",
     "output_type": "stream",
     "text": [
      "==== Accuracy/Precision/Recall/F1 from train data set ==== \n",
      "\n",
      "Accuracy = 93.04084720121028\n",
      "Precision = 92.55014326647564\n",
      "Recall = 94.16909620991254\n",
      "F1 = 93.35260115606937\n"
     ]
    }
   ],
   "source": [
    "from sklearn.metrics import f1_score,accuracy_score,precision_score,recall_score\n",
    "\n",
    "print(\"==== Accuracy/Precision/Recall/F1 from train data set ==== \\n\")\n",
    "f1 = f1_score(y_train,yhat_train)\n",
    "acc = accuracy_score(y_train,yhat_train)\n",
    "precision = precision_score(y_train,yhat_train)\n",
    "recall = recall_score(y_train,yhat_train)\n",
    "print(\"Accuracy = \"+str(acc*100))\n",
    "print(\"Precision = \"+str(precision*100))\n",
    "print(\"Recall = \"+str(recall*100))\n",
    "print(\"F1 = \"+str(f1*100))\n"
   ]
  },
  {
   "cell_type": "code",
   "execution_count": 49,
   "metadata": {},
   "outputs": [
    {
     "name": "stdout",
     "output_type": "stream",
     "text": [
      "==== Accuracy/Precision/Recall/F1 from train data set ====\n",
      "\n",
      "Accuracy = 91.6289592760181\n",
      "Precision = 90.47619047619048\n",
      "Recall = 91.78743961352657\n",
      "F1 = 91.12709832134293\n"
     ]
    }
   ],
   "source": [
    "print(\"==== Accuracy/Precision/Recall/F1 from train data set ====\\n\")\n",
    "f12 = f1_score(y_test,yhat_test)\n",
    "acc2 = accuracy_score(y_test,yhat_test)\n",
    "precision2 = precision_score(y_test,yhat_test)\n",
    "recall2 = recall_score(y_test,yhat_test)\n",
    "print(\"Accuracy = \"+str(acc2*100))\n",
    "print(\"Precision = \"+str(precision2*100))\n",
    "print(\"Recall = \"+str(recall2*100))\n",
    "print(\"F1 = \"+str(f12*100))"
   ]
  },
  {
   "cell_type": "code",
   "execution_count": 51,
   "metadata": {},
   "outputs": [
    {
     "name": "stdout",
     "output_type": "stream",
     "text": [
      "==== classification report from train data set ====\n",
      "\n",
      "             precision    recall  f1-score   support\n",
      "\n",
      "         no       0.94      0.92      0.93       318\n",
      "        yes       0.93      0.94      0.93       343\n",
      "\n",
      "avg / total       0.93      0.93      0.93       661\n",
      "\n"
     ]
    }
   ],
   "source": [
    "from sklearn.metrics import classification_report\n",
    "print(\"==== classification report from train data set ====\\n\")\n",
    "print(classification_report(y_train,yhat_train,target_names = ['no','yes']))"
   ]
  },
  {
   "cell_type": "code",
   "execution_count": 52,
   "metadata": {},
   "outputs": [
    {
     "name": "stdout",
     "output_type": "stream",
     "text": [
      "==== classification report from test data set ====\n",
      "\n",
      "             precision    recall  f1-score   support\n",
      "\n",
      "         no       0.93      0.91      0.92       235\n",
      "        yes       0.90      0.92      0.91       207\n",
      "\n",
      "avg / total       0.92      0.92      0.92       442\n",
      "\n"
     ]
    }
   ],
   "source": [
    "print(\"==== classification report from test data set ====\\n\")\n",
    "print(classification_report(y_test,yhat_test,target_names = ['no','yes']))"
   ]
  },
  {
   "cell_type": "markdown",
   "metadata": {},
   "source": [
    "### 5. (Optional) Mutlinomial Logistic Regression Model\n",
    "\n",
    "Binning the sale price into three classes : `Low`, `Medium`, `High`.\n",
    "Then, apply the logistic regression model and evaluate the model performance. <br>\n",
    "See http://scikit-learn.org/stable/modules/generated/sklearn.linear_model.LogisticRegression.html"
   ]
  },
  {
   "cell_type": "code",
   "execution_count": 56,
   "metadata": {},
   "outputs": [],
   "source": [
    "df_copy = df.copy()"
   ]
  },
  {
   "cell_type": "code",
   "execution_count": 57,
   "metadata": {},
   "outputs": [],
   "source": [
    "del df_copy['Fence'] "
   ]
  },
  {
   "cell_type": "code",
   "execution_count": 58,
   "metadata": {},
   "outputs": [],
   "source": [
    "df_copy = df_copy.dropna(subset=['BsmtQual','BsmtFinType1','GarageYrBlt','LotFrontage'])"
   ]
  },
  {
   "cell_type": "code",
   "execution_count": 59,
   "metadata": {},
   "outputs": [
    {
     "data": {
      "text/plain": [
       "0         High\n",
       "1       Medium\n",
       "2         High\n",
       "3          Low\n",
       "4         High\n",
       "5       Medium\n",
       "6         High\n",
       "8          Low\n",
       "9          Low\n",
       "10         Low\n",
       "11        High\n",
       "13        High\n",
       "15         Low\n",
       "18      Medium\n",
       "19         Low\n",
       "20        High\n",
       "21         Low\n",
       "22        High\n",
       "23         Low\n",
       "25        High\n",
       "26         Low\n",
       "27        High\n",
       "28        High\n",
       "29         Low\n",
       "30         Low\n",
       "32      Medium\n",
       "33      Medium\n",
       "34        High\n",
       "35        High\n",
       "36      Medium\n",
       "         ...  \n",
       "1420    Medium\n",
       "1421       Low\n",
       "1422       Low\n",
       "1425    Medium\n",
       "1426      High\n",
       "1427       Low\n",
       "1428       Low\n",
       "1430    Medium\n",
       "1432       Low\n",
       "1433    Medium\n",
       "1434    Medium\n",
       "1435    Medium\n",
       "1436       Low\n",
       "1437      High\n",
       "1438    Medium\n",
       "1439      High\n",
       "1440    Medium\n",
       "1442      High\n",
       "1444    Medium\n",
       "1445       Low\n",
       "1447      High\n",
       "1448       Low\n",
       "1451      High\n",
       "1452    Medium\n",
       "1454    Medium\n",
       "1455    Medium\n",
       "1456      High\n",
       "1457      High\n",
       "1458    Medium\n",
       "1459    Medium\n",
       "Name: SalePrice_HL, Length: 1103, dtype: category\n",
       "Categories (3, object): [Low < Medium < High]"
      ]
     },
     "execution_count": 59,
     "metadata": {},
     "output_type": "execute_result"
    }
   ],
   "source": [
    "df_copy['SalePrice_HL'] = pd.qcut(df_copy.SalePrice,3,labels=['Low','Medium','High'])\n",
    "df_copy['SalePrice_HL']"
   ]
  },
  {
   "cell_type": "code",
   "execution_count": 60,
   "metadata": {},
   "outputs": [],
   "source": [
    "Sale = {'High':3,'Medium':2,'Low':1}\n",
    "df_copy['SalePrice_HL'] = df_copy['SalePrice_HL'].replace(Sale)"
   ]
  },
  {
   "cell_type": "code",
   "execution_count": 61,
   "metadata": {},
   "outputs": [],
   "source": [
    "df_copy2 = df_copy.copy()\n",
    "quality  = {'Po':0 ,'Fa':1,'TA':2,'Gd':3,'Ex':4}\n",
    "df_copy2['KitchenQual'] = df_copy2['KitchenQual'].replace(quality)\n",
    "df_copy2['HeatingQC'] = df_copy2['HeatingQC'].replace(quality)\n",
    "df_copy2['BsmtQual'] = df_copy2['BsmtQual'].replace(quality)\n",
    "df_copy2['ExterQual'] = df_copy2['ExterQual'].replace(quality)"
   ]
  },
  {
   "cell_type": "code",
   "execution_count": 62,
   "metadata": {},
   "outputs": [],
   "source": [
    "quality2  = {'NA':0 ,'Unf':1,'LwQ':2,'Rec':3,'BLQ':4,'ALQ':5,'GLQ':6}\n",
    "df_copy2['BsmtFinType1'] = df_copy2['BsmtFinType1'].replace(quality2)\n"
   ]
  },
  {
   "cell_type": "code",
   "execution_count": 63,
   "metadata": {},
   "outputs": [],
   "source": [
    "df_copy3 = pd.get_dummies(df_copy2,columns = ['Foundation'])"
   ]
  },
  {
   "cell_type": "code",
   "execution_count": 2,
   "metadata": {},
   "outputs": [
    {
     "ename": "NameError",
     "evalue": "name 'df_copy3' is not defined",
     "output_type": "error",
     "traceback": [
      "\u001b[1;31m---------------------------------------------------------------------------\u001b[0m",
      "\u001b[1;31mNameError\u001b[0m                                 Traceback (most recent call last)",
      "\u001b[1;32m<ipython-input-2-04612e966e2f>\u001b[0m in \u001b[0;36m<module>\u001b[1;34m()\u001b[0m\n\u001b[1;32m----> 1\u001b[1;33m \u001b[0mtraindata_x\u001b[0m \u001b[1;33m=\u001b[0m \u001b[0mdf_copy3\u001b[0m\u001b[1;33m.\u001b[0m\u001b[0mdrop\u001b[0m\u001b[1;33m(\u001b[0m\u001b[1;33m[\u001b[0m\u001b[1;34m'SalePrice'\u001b[0m\u001b[1;33m,\u001b[0m\u001b[1;34m'SalePrice_HL'\u001b[0m\u001b[1;33m,\u001b[0m\u001b[1;34m'Id'\u001b[0m\u001b[1;33m]\u001b[0m\u001b[1;33m,\u001b[0m\u001b[0maxis\u001b[0m \u001b[1;33m=\u001b[0m \u001b[1;36m1\u001b[0m\u001b[1;33m)\u001b[0m\u001b[1;33m\u001b[0m\u001b[0m\n\u001b[0m\u001b[0;32m      2\u001b[0m \u001b[0mtraindata_y\u001b[0m \u001b[1;33m=\u001b[0m \u001b[0mdf_copy3\u001b[0m\u001b[1;33m.\u001b[0m\u001b[0mSalePrice_HL\u001b[0m\u001b[1;33m\u001b[0m\u001b[0m\n",
      "\u001b[1;31mNameError\u001b[0m: name 'df_copy3' is not defined"
     ]
    }
   ],
   "source": [
    "traindata_x = df_copy3.drop(['SalePrice','SalePrice_HL','Id'],axis = 1)\n",
    "traindata_y = df_copy3.SalePrice_HL"
   ]
  },
  {
   "cell_type": "code",
   "execution_count": 1,
   "metadata": {},
   "outputs": [
    {
     "ename": "NameError",
     "evalue": "name 'traindata_x' is not defined",
     "output_type": "error",
     "traceback": [
      "\u001b[1;31m---------------------------------------------------------------------------\u001b[0m",
      "\u001b[1;31mNameError\u001b[0m                                 Traceback (most recent call last)",
      "\u001b[1;32m<ipython-input-1-b7d1875b6e00>\u001b[0m in \u001b[0;36m<module>\u001b[1;34m()\u001b[0m\n\u001b[0;32m      1\u001b[0m \u001b[1;32mfrom\u001b[0m \u001b[0msklearn\u001b[0m\u001b[1;33m.\u001b[0m\u001b[0mmodel_selection\u001b[0m \u001b[1;32mimport\u001b[0m \u001b[0mtrain_test_split\u001b[0m\u001b[1;33m\u001b[0m\u001b[0m\n\u001b[1;32m----> 2\u001b[1;33m \u001b[0mx_train\u001b[0m \u001b[1;33m,\u001b[0m \u001b[0mx_test\u001b[0m \u001b[1;33m,\u001b[0m \u001b[0my_train\u001b[0m \u001b[1;33m,\u001b[0m \u001b[0my_test\u001b[0m \u001b[1;33m=\u001b[0m \u001b[0mtrain_test_split\u001b[0m\u001b[1;33m(\u001b[0m\u001b[0mtraindata_x\u001b[0m\u001b[1;33m,\u001b[0m\u001b[0mtraindata_y\u001b[0m\u001b[1;33m,\u001b[0m\u001b[0mtest_size\u001b[0m \u001b[1;33m=\u001b[0m \u001b[1;36m0.3\u001b[0m\u001b[1;33m,\u001b[0m\u001b[0mrandom_state\u001b[0m \u001b[1;33m=\u001b[0m \u001b[1;36m0\u001b[0m\u001b[1;33m)\u001b[0m\u001b[1;33m\u001b[0m\u001b[0m\n\u001b[0m",
      "\u001b[1;31mNameError\u001b[0m: name 'traindata_x' is not defined"
     ]
    }
   ],
   "source": [
    "from sklearn.model_selection import train_test_split\n",
    "x_train , x_test , y_train , y_test = train_test_split(traindata_x,traindata_y,test_size = 0.3,random_state = 0)"
   ]
  },
  {
   "cell_type": "code",
   "execution_count": null,
   "metadata": {},
   "outputs": [],
   "source": [
    "from sklearn.preprocessing import StandardScaler\n",
    "sc = StandardScaler()\n",
    "x_train = sc.fit_transform(x_train)\n",
    "x_test = sc.transform(x_test)"
   ]
  },
  {
   "cell_type": "code",
   "execution_count": null,
   "metadata": {},
   "outputs": [],
   "source": [
    "from sklearn import linear_model\n",
    "lr = linear_model.LogisticRegression( warm_start = True,solver='lbfgs', max_iter=60000, multi_class='multinomial' )\n",
    "lr.fit(x_train,y_train)"
   ]
  },
  {
   "cell_type": "code",
   "execution_count": 81,
   "metadata": {},
   "outputs": [
    {
     "name": "stdout",
     "output_type": "stream",
     "text": [
      "Accuracy from train dataset :83.66111951588502\n"
     ]
    }
   ],
   "source": [
    "yhat_train = lr.predict(x_train)\n",
    "from sklearn.metrics import accuracy_score\n",
    "acc_train = accuracy_score(y_train,yhat_train)\n",
    "print(\"Accuracy from train dataset :\"+str(acc_train*100))"
   ]
  },
  {
   "cell_type": "code",
   "execution_count": 82,
   "metadata": {},
   "outputs": [
    {
     "name": "stdout",
     "output_type": "stream",
     "text": [
      "Accuracy from test dataset :82.12669683257919\n"
     ]
    }
   ],
   "source": [
    "yhat_test = lr.predict(x_test)\n",
    "\n",
    "acc_test = accuracy_score(y_test,yhat_test)\n",
    "print(\"Accuracy from test dataset :\"+str(acc_test*100))"
   ]
  },
  {
   "cell_type": "code",
   "execution_count": 83,
   "metadata": {},
   "outputs": [
    {
     "name": "stdout",
     "output_type": "stream",
     "text": [
      "confusion matrix from train data set\n",
      "\n",
      "[[183  28   1]\n",
      " [ 30 168  23]\n",
      " [  1  25 202]]\n"
     ]
    }
   ],
   "source": [
    "from sklearn.metrics import confusion_matrix\n",
    "print(\"confusion matrix from train data set\\n\")\n",
    "print(confusion_matrix(y_train,yhat_train))"
   ]
  },
  {
   "cell_type": "code",
   "execution_count": 84,
   "metadata": {},
   "outputs": [
    {
     "name": "stdout",
     "output_type": "stream",
     "text": [
      "confusion matrix from test data set\n",
      "\n",
      "[[130  27   0]\n",
      " [ 24 110  11]\n",
      " [  1  16 123]]\n"
     ]
    }
   ],
   "source": [
    "from sklearn.metrics import confusion_matrix\n",
    "print(\"confusion matrix from test data set\\n\")\n",
    "print(confusion_matrix(y_test,yhat_test))"
   ]
  },
  {
   "cell_type": "code",
   "execution_count": 87,
   "metadata": {},
   "outputs": [
    {
     "name": "stdout",
     "output_type": "stream",
     "text": [
      "==== classification report from train data set ====\n",
      "\n",
      "             precision    recall  f1-score   support\n",
      "\n",
      "         no       0.86      0.86      0.86       212\n",
      "        yes       0.76      0.76      0.76       221\n",
      "\n",
      "avg / total       0.84      0.84      0.84       661\n",
      "\n"
     ]
    },
    {
     "name": "stderr",
     "output_type": "stream",
     "text": [
      "C:\\Users\\FongInWza2007eiei\\Anaconda3\\lib\\site-packages\\sklearn\\metrics\\classification.py:1428: UserWarning: labels size, 3, does not match size of target_names, 2\n",
      "  .format(len(labels), len(target_names))\n"
     ]
    }
   ],
   "source": [
    "from sklearn.metrics import classification_report\n",
    "print(\"==== classification report from train data set ====\\n\")\n",
    "print(classification_report(y_train,yhat_train,target_names = ['no','yes']))"
   ]
  },
  {
   "cell_type": "code",
   "execution_count": 88,
   "metadata": {},
   "outputs": [
    {
     "name": "stdout",
     "output_type": "stream",
     "text": [
      "==== classification report from test data set ====\n",
      "\n",
      "             precision    recall  f1-score   support\n",
      "\n",
      "         no       0.84      0.83      0.83       157\n",
      "        yes       0.72      0.76      0.74       145\n",
      "\n",
      "avg / total       0.82      0.82      0.82       442\n",
      "\n"
     ]
    },
    {
     "name": "stderr",
     "output_type": "stream",
     "text": [
      "C:\\Users\\FongInWza2007eiei\\Anaconda3\\lib\\site-packages\\sklearn\\metrics\\classification.py:1428: UserWarning: labels size, 3, does not match size of target_names, 2\n",
      "  .format(len(labels), len(target_names))\n"
     ]
    }
   ],
   "source": [
    "print(\"==== classification report from test data set ====\\n\")\n",
    "print(classification_report(y_test,yhat_test,target_names = ['no','yes']))"
   ]
  },
  {
   "cell_type": "code",
   "execution_count": null,
   "metadata": {},
   "outputs": [],
   "source": []
  }
 ],
 "metadata": {
  "kernelspec": {
   "display_name": "Python 3",
   "language": "python",
   "name": "python3"
  },
  "language_info": {
   "codemirror_mode": {
    "name": "ipython",
    "version": 3
   },
   "file_extension": ".py",
   "mimetype": "text/x-python",
   "name": "python",
   "nbconvert_exporter": "python",
   "pygments_lexer": "ipython3",
   "version": "3.6.4"
  }
 },
 "nbformat": 4,
 "nbformat_minor": 2
}
