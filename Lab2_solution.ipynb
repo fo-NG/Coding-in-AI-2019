{
 "cells": [
  {
   "cell_type": "markdown",
   "metadata": {
    "colab_type": "text",
    "id": "bZ_6lwmhBTht"
   },
   "source": [
    "# Lab 1: Linear Regression / Logistic Regression and Decision Tree\n",
    "\n",
    "- Please write your name and student id everytime"
   ]
  },
  {
   "cell_type": "markdown",
   "metadata": {
    "colab_type": "text",
    "id": "WnEgyuH0BThu"
   },
   "source": [
    "## Lab Instruction *<< Please Read*\n",
    "\n",
    "In this lab, you are to create a a Linear Regression and logistic regression model to predict the sale price of <br>\n",
    "houses (Low, High) from a given set of attributes. <br>\n",
    "The data file is`lab1_dataset.csv` <br>\n",
    "Note that you need to explore and process/drop attributes, <br>\n",
    "and map numerical values of sale prices to categorical values (Low, High)"
   ]
  },
  {
   "cell_type": "markdown",
   "metadata": {
    "colab_type": "text",
    "id": "WKkqyYKwBThv"
   },
   "source": [
    "###  1. Import the Dataset and Learn About the Data\n"
   ]
  },
  {
   "cell_type": "code",
   "execution_count": 56,
   "metadata": {
    "colab": {},
    "colab_type": "code",
    "id": "py5jX1D7BThw",
    "outputId": "8e1f4ed2-1f9f-4bdf-b3e4-0887ef041801"
   },
   "outputs": [
    {
     "data": {
      "text/html": [
       "<div>\n",
       "<style scoped>\n",
       "    .dataframe tbody tr th:only-of-type {\n",
       "        vertical-align: middle;\n",
       "    }\n",
       "\n",
       "    .dataframe tbody tr th {\n",
       "        vertical-align: top;\n",
       "    }\n",
       "\n",
       "    .dataframe thead th {\n",
       "        text-align: right;\n",
       "    }\n",
       "</style>\n",
       "<table border=\"1\" class=\"dataframe\">\n",
       "  <thead>\n",
       "    <tr style=\"text-align: right;\">\n",
       "      <th></th>\n",
       "      <th>Id</th>\n",
       "      <th>Foundation</th>\n",
       "      <th>1stFlrSF</th>\n",
       "      <th>KitchenQual</th>\n",
       "      <th>Fireplaces</th>\n",
       "      <th>HeatingQC</th>\n",
       "      <th>FullBath</th>\n",
       "      <th>BsmtQual</th>\n",
       "      <th>OpenPorchSF</th>\n",
       "      <th>GarageYrBlt</th>\n",
       "      <th>...</th>\n",
       "      <th>BsmtFinType1</th>\n",
       "      <th>YearBuilt</th>\n",
       "      <th>GarageArea</th>\n",
       "      <th>TotRmsAbvGrd</th>\n",
       "      <th>GarageCars</th>\n",
       "      <th>GrLivArea</th>\n",
       "      <th>YearRemodAdd</th>\n",
       "      <th>LotFrontage</th>\n",
       "      <th>Fence</th>\n",
       "      <th>SalePrice</th>\n",
       "    </tr>\n",
       "  </thead>\n",
       "  <tbody>\n",
       "    <tr>\n",
       "      <th>0</th>\n",
       "      <td>1</td>\n",
       "      <td>PConc</td>\n",
       "      <td>856</td>\n",
       "      <td>Gd</td>\n",
       "      <td>0</td>\n",
       "      <td>Ex</td>\n",
       "      <td>2</td>\n",
       "      <td>Gd</td>\n",
       "      <td>61</td>\n",
       "      <td>2003.0</td>\n",
       "      <td>...</td>\n",
       "      <td>GLQ</td>\n",
       "      <td>2003</td>\n",
       "      <td>548</td>\n",
       "      <td>8</td>\n",
       "      <td>2</td>\n",
       "      <td>1710</td>\n",
       "      <td>2003</td>\n",
       "      <td>65.0</td>\n",
       "      <td>NaN</td>\n",
       "      <td>208500</td>\n",
       "    </tr>\n",
       "    <tr>\n",
       "      <th>1</th>\n",
       "      <td>2</td>\n",
       "      <td>CBlock</td>\n",
       "      <td>1262</td>\n",
       "      <td>TA</td>\n",
       "      <td>1</td>\n",
       "      <td>Ex</td>\n",
       "      <td>2</td>\n",
       "      <td>Gd</td>\n",
       "      <td>0</td>\n",
       "      <td>1976.0</td>\n",
       "      <td>...</td>\n",
       "      <td>ALQ</td>\n",
       "      <td>1976</td>\n",
       "      <td>460</td>\n",
       "      <td>6</td>\n",
       "      <td>2</td>\n",
       "      <td>1262</td>\n",
       "      <td>1976</td>\n",
       "      <td>80.0</td>\n",
       "      <td>NaN</td>\n",
       "      <td>181500</td>\n",
       "    </tr>\n",
       "    <tr>\n",
       "      <th>2</th>\n",
       "      <td>3</td>\n",
       "      <td>PConc</td>\n",
       "      <td>920</td>\n",
       "      <td>Gd</td>\n",
       "      <td>1</td>\n",
       "      <td>Ex</td>\n",
       "      <td>2</td>\n",
       "      <td>Gd</td>\n",
       "      <td>42</td>\n",
       "      <td>2001.0</td>\n",
       "      <td>...</td>\n",
       "      <td>GLQ</td>\n",
       "      <td>2001</td>\n",
       "      <td>608</td>\n",
       "      <td>6</td>\n",
       "      <td>2</td>\n",
       "      <td>1786</td>\n",
       "      <td>2002</td>\n",
       "      <td>68.0</td>\n",
       "      <td>NaN</td>\n",
       "      <td>223500</td>\n",
       "    </tr>\n",
       "    <tr>\n",
       "      <th>3</th>\n",
       "      <td>4</td>\n",
       "      <td>BrkTil</td>\n",
       "      <td>961</td>\n",
       "      <td>Gd</td>\n",
       "      <td>1</td>\n",
       "      <td>Gd</td>\n",
       "      <td>1</td>\n",
       "      <td>TA</td>\n",
       "      <td>35</td>\n",
       "      <td>1998.0</td>\n",
       "      <td>...</td>\n",
       "      <td>ALQ</td>\n",
       "      <td>1915</td>\n",
       "      <td>642</td>\n",
       "      <td>7</td>\n",
       "      <td>3</td>\n",
       "      <td>1717</td>\n",
       "      <td>1970</td>\n",
       "      <td>60.0</td>\n",
       "      <td>NaN</td>\n",
       "      <td>140000</td>\n",
       "    </tr>\n",
       "    <tr>\n",
       "      <th>4</th>\n",
       "      <td>5</td>\n",
       "      <td>PConc</td>\n",
       "      <td>1145</td>\n",
       "      <td>Gd</td>\n",
       "      <td>1</td>\n",
       "      <td>Ex</td>\n",
       "      <td>2</td>\n",
       "      <td>Gd</td>\n",
       "      <td>84</td>\n",
       "      <td>2000.0</td>\n",
       "      <td>...</td>\n",
       "      <td>GLQ</td>\n",
       "      <td>2000</td>\n",
       "      <td>836</td>\n",
       "      <td>9</td>\n",
       "      <td>3</td>\n",
       "      <td>2198</td>\n",
       "      <td>2000</td>\n",
       "      <td>84.0</td>\n",
       "      <td>NaN</td>\n",
       "      <td>250000</td>\n",
       "    </tr>\n",
       "  </tbody>\n",
       "</table>\n",
       "<p>5 rows × 22 columns</p>\n",
       "</div>"
      ],
      "text/plain": [
       "   Id Foundation  1stFlrSF KitchenQual  Fireplaces HeatingQC  FullBath  \\\n",
       "0   1      PConc       856          Gd           0        Ex         2   \n",
       "1   2     CBlock      1262          TA           1        Ex         2   \n",
       "2   3      PConc       920          Gd           1        Ex         2   \n",
       "3   4     BrkTil       961          Gd           1        Gd         1   \n",
       "4   5      PConc      1145          Gd           1        Ex         2   \n",
       "\n",
       "  BsmtQual  OpenPorchSF  GarageYrBlt  ... BsmtFinType1  YearBuilt GarageArea  \\\n",
       "0       Gd           61       2003.0  ...          GLQ       2003        548   \n",
       "1       Gd            0       1976.0  ...          ALQ       1976        460   \n",
       "2       Gd           42       2001.0  ...          GLQ       2001        608   \n",
       "3       TA           35       1998.0  ...          ALQ       1915        642   \n",
       "4       Gd           84       2000.0  ...          GLQ       2000        836   \n",
       "\n",
       "   TotRmsAbvGrd  GarageCars  GrLivArea  YearRemodAdd  LotFrontage  Fence  \\\n",
       "0             8           2       1710          2003         65.0    NaN   \n",
       "1             6           2       1262          1976         80.0    NaN   \n",
       "2             6           2       1786          2002         68.0    NaN   \n",
       "3             7           3       1717          1970         60.0    NaN   \n",
       "4             9           3       2198          2000         84.0    NaN   \n",
       "\n",
       "   SalePrice  \n",
       "0     208500  \n",
       "1     181500  \n",
       "2     223500  \n",
       "3     140000  \n",
       "4     250000  \n",
       "\n",
       "[5 rows x 22 columns]"
      ]
     },
     "execution_count": 56,
     "metadata": {},
     "output_type": "execute_result"
    }
   ],
   "source": [
    "import pandas as pd\n",
    "df = pd.read_csv('lab1_dataset.csv')\n",
    "df.head()"
   ]
  },
  {
   "cell_type": "code",
   "execution_count": 57,
   "metadata": {
    "colab": {},
    "colab_type": "code",
    "id": "VqsMQnVWBTh2",
    "outputId": "6badb60c-1dfc-4c3b-fe58-99d307506e78"
   },
   "outputs": [
    {
     "data": {
      "text/html": [
       "<div>\n",
       "<style scoped>\n",
       "    .dataframe tbody tr th:only-of-type {\n",
       "        vertical-align: middle;\n",
       "    }\n",
       "\n",
       "    .dataframe tbody tr th {\n",
       "        vertical-align: top;\n",
       "    }\n",
       "\n",
       "    .dataframe thead th {\n",
       "        text-align: right;\n",
       "    }\n",
       "</style>\n",
       "<table border=\"1\" class=\"dataframe\">\n",
       "  <thead>\n",
       "    <tr style=\"text-align: right;\">\n",
       "      <th></th>\n",
       "      <th>Id</th>\n",
       "      <th>1stFlrSF</th>\n",
       "      <th>Fireplaces</th>\n",
       "      <th>FullBath</th>\n",
       "      <th>OpenPorchSF</th>\n",
       "      <th>GarageYrBlt</th>\n",
       "      <th>OverallQual</th>\n",
       "      <th>YearBuilt</th>\n",
       "      <th>GarageArea</th>\n",
       "      <th>TotRmsAbvGrd</th>\n",
       "      <th>GarageCars</th>\n",
       "      <th>GrLivArea</th>\n",
       "      <th>YearRemodAdd</th>\n",
       "      <th>LotFrontage</th>\n",
       "      <th>SalePrice</th>\n",
       "    </tr>\n",
       "  </thead>\n",
       "  <tbody>\n",
       "    <tr>\n",
       "      <th>count</th>\n",
       "      <td>1460.000000</td>\n",
       "      <td>1460.000000</td>\n",
       "      <td>1460.000000</td>\n",
       "      <td>1460.000000</td>\n",
       "      <td>1460.000000</td>\n",
       "      <td>1379.000000</td>\n",
       "      <td>1460.000000</td>\n",
       "      <td>1460.000000</td>\n",
       "      <td>1460.000000</td>\n",
       "      <td>1460.000000</td>\n",
       "      <td>1460.000000</td>\n",
       "      <td>1460.000000</td>\n",
       "      <td>1460.000000</td>\n",
       "      <td>1201.000000</td>\n",
       "      <td>1460.000000</td>\n",
       "    </tr>\n",
       "    <tr>\n",
       "      <th>mean</th>\n",
       "      <td>730.500000</td>\n",
       "      <td>1162.626712</td>\n",
       "      <td>0.613014</td>\n",
       "      <td>1.565068</td>\n",
       "      <td>46.660274</td>\n",
       "      <td>1978.506164</td>\n",
       "      <td>6.099315</td>\n",
       "      <td>1971.267808</td>\n",
       "      <td>472.980137</td>\n",
       "      <td>6.517808</td>\n",
       "      <td>1.767123</td>\n",
       "      <td>1515.463699</td>\n",
       "      <td>1984.865753</td>\n",
       "      <td>70.049958</td>\n",
       "      <td>180921.195890</td>\n",
       "    </tr>\n",
       "    <tr>\n",
       "      <th>std</th>\n",
       "      <td>421.610009</td>\n",
       "      <td>386.587738</td>\n",
       "      <td>0.644666</td>\n",
       "      <td>0.550916</td>\n",
       "      <td>66.256028</td>\n",
       "      <td>24.689725</td>\n",
       "      <td>1.382997</td>\n",
       "      <td>30.202904</td>\n",
       "      <td>213.804841</td>\n",
       "      <td>1.625393</td>\n",
       "      <td>0.747315</td>\n",
       "      <td>525.480383</td>\n",
       "      <td>20.645407</td>\n",
       "      <td>24.284752</td>\n",
       "      <td>79442.502883</td>\n",
       "    </tr>\n",
       "    <tr>\n",
       "      <th>min</th>\n",
       "      <td>1.000000</td>\n",
       "      <td>334.000000</td>\n",
       "      <td>0.000000</td>\n",
       "      <td>0.000000</td>\n",
       "      <td>0.000000</td>\n",
       "      <td>1900.000000</td>\n",
       "      <td>1.000000</td>\n",
       "      <td>1872.000000</td>\n",
       "      <td>0.000000</td>\n",
       "      <td>2.000000</td>\n",
       "      <td>0.000000</td>\n",
       "      <td>334.000000</td>\n",
       "      <td>1950.000000</td>\n",
       "      <td>21.000000</td>\n",
       "      <td>34900.000000</td>\n",
       "    </tr>\n",
       "    <tr>\n",
       "      <th>25%</th>\n",
       "      <td>365.750000</td>\n",
       "      <td>882.000000</td>\n",
       "      <td>0.000000</td>\n",
       "      <td>1.000000</td>\n",
       "      <td>0.000000</td>\n",
       "      <td>1961.000000</td>\n",
       "      <td>5.000000</td>\n",
       "      <td>1954.000000</td>\n",
       "      <td>334.500000</td>\n",
       "      <td>5.000000</td>\n",
       "      <td>1.000000</td>\n",
       "      <td>1129.500000</td>\n",
       "      <td>1967.000000</td>\n",
       "      <td>59.000000</td>\n",
       "      <td>129975.000000</td>\n",
       "    </tr>\n",
       "    <tr>\n",
       "      <th>50%</th>\n",
       "      <td>730.500000</td>\n",
       "      <td>1087.000000</td>\n",
       "      <td>1.000000</td>\n",
       "      <td>2.000000</td>\n",
       "      <td>25.000000</td>\n",
       "      <td>1980.000000</td>\n",
       "      <td>6.000000</td>\n",
       "      <td>1973.000000</td>\n",
       "      <td>480.000000</td>\n",
       "      <td>6.000000</td>\n",
       "      <td>2.000000</td>\n",
       "      <td>1464.000000</td>\n",
       "      <td>1994.000000</td>\n",
       "      <td>69.000000</td>\n",
       "      <td>163000.000000</td>\n",
       "    </tr>\n",
       "    <tr>\n",
       "      <th>75%</th>\n",
       "      <td>1095.250000</td>\n",
       "      <td>1391.250000</td>\n",
       "      <td>1.000000</td>\n",
       "      <td>2.000000</td>\n",
       "      <td>68.000000</td>\n",
       "      <td>2002.000000</td>\n",
       "      <td>7.000000</td>\n",
       "      <td>2000.000000</td>\n",
       "      <td>576.000000</td>\n",
       "      <td>7.000000</td>\n",
       "      <td>2.000000</td>\n",
       "      <td>1776.750000</td>\n",
       "      <td>2004.000000</td>\n",
       "      <td>80.000000</td>\n",
       "      <td>214000.000000</td>\n",
       "    </tr>\n",
       "    <tr>\n",
       "      <th>max</th>\n",
       "      <td>1460.000000</td>\n",
       "      <td>4692.000000</td>\n",
       "      <td>3.000000</td>\n",
       "      <td>3.000000</td>\n",
       "      <td>547.000000</td>\n",
       "      <td>2010.000000</td>\n",
       "      <td>10.000000</td>\n",
       "      <td>2010.000000</td>\n",
       "      <td>1418.000000</td>\n",
       "      <td>14.000000</td>\n",
       "      <td>4.000000</td>\n",
       "      <td>5642.000000</td>\n",
       "      <td>2010.000000</td>\n",
       "      <td>313.000000</td>\n",
       "      <td>755000.000000</td>\n",
       "    </tr>\n",
       "  </tbody>\n",
       "</table>\n",
       "</div>"
      ],
      "text/plain": [
       "                Id     1stFlrSF   Fireplaces     FullBath  OpenPorchSF  \\\n",
       "count  1460.000000  1460.000000  1460.000000  1460.000000  1460.000000   \n",
       "mean    730.500000  1162.626712     0.613014     1.565068    46.660274   \n",
       "std     421.610009   386.587738     0.644666     0.550916    66.256028   \n",
       "min       1.000000   334.000000     0.000000     0.000000     0.000000   \n",
       "25%     365.750000   882.000000     0.000000     1.000000     0.000000   \n",
       "50%     730.500000  1087.000000     1.000000     2.000000    25.000000   \n",
       "75%    1095.250000  1391.250000     1.000000     2.000000    68.000000   \n",
       "max    1460.000000  4692.000000     3.000000     3.000000   547.000000   \n",
       "\n",
       "       GarageYrBlt  OverallQual    YearBuilt   GarageArea  TotRmsAbvGrd  \\\n",
       "count  1379.000000  1460.000000  1460.000000  1460.000000   1460.000000   \n",
       "mean   1978.506164     6.099315  1971.267808   472.980137      6.517808   \n",
       "std      24.689725     1.382997    30.202904   213.804841      1.625393   \n",
       "min    1900.000000     1.000000  1872.000000     0.000000      2.000000   \n",
       "25%    1961.000000     5.000000  1954.000000   334.500000      5.000000   \n",
       "50%    1980.000000     6.000000  1973.000000   480.000000      6.000000   \n",
       "75%    2002.000000     7.000000  2000.000000   576.000000      7.000000   \n",
       "max    2010.000000    10.000000  2010.000000  1418.000000     14.000000   \n",
       "\n",
       "        GarageCars    GrLivArea  YearRemodAdd  LotFrontage      SalePrice  \n",
       "count  1460.000000  1460.000000   1460.000000  1201.000000    1460.000000  \n",
       "mean      1.767123  1515.463699   1984.865753    70.049958  180921.195890  \n",
       "std       0.747315   525.480383     20.645407    24.284752   79442.502883  \n",
       "min       0.000000   334.000000   1950.000000    21.000000   34900.000000  \n",
       "25%       1.000000  1129.500000   1967.000000    59.000000  129975.000000  \n",
       "50%       2.000000  1464.000000   1994.000000    69.000000  163000.000000  \n",
       "75%       2.000000  1776.750000   2004.000000    80.000000  214000.000000  \n",
       "max       4.000000  5642.000000   2010.000000   313.000000  755000.000000  "
      ]
     },
     "execution_count": 57,
     "metadata": {},
     "output_type": "execute_result"
    }
   ],
   "source": [
    "df.describe()"
   ]
  },
  {
   "cell_type": "code",
   "execution_count": 58,
   "metadata": {
    "colab": {},
    "colab_type": "code",
    "id": "p5RfuIVFBTh5",
    "outputId": "94da8af3-d3ca-45dd-d225-8dc99f6d3049"
   },
   "outputs": [
    {
     "name": "stdout",
     "output_type": "stream",
     "text": [
      "<class 'pandas.core.frame.DataFrame'>\n",
      "RangeIndex: 1460 entries, 0 to 1459\n",
      "Data columns (total 22 columns):\n",
      "Id              1460 non-null int64\n",
      "Foundation      1460 non-null object\n",
      "1stFlrSF        1460 non-null int64\n",
      "KitchenQual     1460 non-null object\n",
      "Fireplaces      1460 non-null int64\n",
      "HeatingQC       1460 non-null object\n",
      "FullBath        1460 non-null int64\n",
      "BsmtQual        1423 non-null object\n",
      "OpenPorchSF     1460 non-null int64\n",
      "GarageYrBlt     1379 non-null float64\n",
      "ExterQual       1460 non-null object\n",
      "OverallQual     1460 non-null int64\n",
      "BsmtFinType1    1423 non-null object\n",
      "YearBuilt       1460 non-null int64\n",
      "GarageArea      1460 non-null int64\n",
      "TotRmsAbvGrd    1460 non-null int64\n",
      "GarageCars      1460 non-null int64\n",
      "GrLivArea       1460 non-null int64\n",
      "YearRemodAdd    1460 non-null int64\n",
      "LotFrontage     1201 non-null float64\n",
      "Fence           281 non-null object\n",
      "SalePrice       1460 non-null int64\n",
      "dtypes: float64(2), int64(13), object(7)\n",
      "memory usage: 251.0+ KB\n"
     ]
    }
   ],
   "source": [
    "df.info()"
   ]
  },
  {
   "cell_type": "code",
   "execution_count": 59,
   "metadata": {
    "colab": {},
    "colab_type": "code",
    "id": "Rhs_TBsvBTh9",
    "outputId": "54d672d4-77d3-4900-a835-be573ad764fa"
   },
   "outputs": [
    {
     "data": {
      "text/plain": [
       "['BsmtQual', 'GarageYrBlt', 'BsmtFinType1', 'LotFrontage', 'Fence']"
      ]
     },
     "execution_count": 59,
     "metadata": {},
     "output_type": "execute_result"
    }
   ],
   "source": [
    "df.columns[df.isnull().any()].tolist()"
   ]
  },
  {
   "cell_type": "code",
   "execution_count": 60,
   "metadata": {
    "colab": {},
    "colab_type": "code",
    "id": "afsF--d-BTiC",
    "outputId": "277dda6b-f132-4f55-b15a-f21866947370"
   },
   "outputs": [
    {
     "data": {
      "text/plain": [
       "Id                 0\n",
       "Foundation         0\n",
       "1stFlrSF           0\n",
       "KitchenQual        0\n",
       "Fireplaces         0\n",
       "HeatingQC          0\n",
       "FullBath           0\n",
       "BsmtQual          37\n",
       "OpenPorchSF        0\n",
       "GarageYrBlt       81\n",
       "ExterQual          0\n",
       "OverallQual        0\n",
       "BsmtFinType1      37\n",
       "YearBuilt          0\n",
       "GarageArea         0\n",
       "TotRmsAbvGrd       0\n",
       "GarageCars         0\n",
       "GrLivArea          0\n",
       "YearRemodAdd       0\n",
       "LotFrontage      259\n",
       "Fence           1179\n",
       "SalePrice          0\n",
       "dtype: int64"
      ]
     },
     "execution_count": 60,
     "metadata": {},
     "output_type": "execute_result"
    }
   ],
   "source": [
    "df.isnull().sum()"
   ]
  },
  {
   "cell_type": "markdown",
   "metadata": {
    "colab_type": "text",
    "id": "DRiNanupBTiF"
   },
   "source": [
    "###  2. Preprocessing\n",
    "\n",
    "Use techniques that you have learned to preprocess the data. **For example**, \n",
    "-  Remove non-informative features\n",
    "-  Remove features with too many NA\n",
    "-  Remove rows with incomplete data\n",
    "-  Remove features with highly unbalanced labels\n",
    "-  Encode categorical variables as appropriate"
   ]
  },
  {
   "cell_type": "markdown",
   "metadata": {
    "colab_type": "text",
    "id": "hwv39igzBTiG"
   },
   "source": [
    "> You can use any other preprocess techniques as long as it make logical sense.\n",
    "\n",
    "\n",
    "- Drop column that have high NA values\n",
    "- Drop person specific column ( Id )\n",
    "- Do feature selection"
   ]
  },
  {
   "cell_type": "code",
   "execution_count": 61,
   "metadata": {
    "colab": {},
    "colab_type": "code",
    "id": "lW35iiyWBTiG"
   },
   "outputs": [],
   "source": [
    "df = df.drop(columns=['Id', 'Fence','YearRemodAdd', 'YearRemodAdd','GarageYrBlt','YearBuilt'])"
   ]
  },
  {
   "cell_type": "markdown",
   "metadata": {
    "colab_type": "text",
    "id": "RuembB2aBTiI"
   },
   "source": [
    "Drop row contain other NA value\n",
    "\n",
    "*(the reason that we drop column with high NA value first because it dose not give any information to our model and it may cause lossing many data if we delete NA by row first. )*"
   ]
  },
  {
   "cell_type": "code",
   "execution_count": 62,
   "metadata": {
    "colab": {},
    "colab_type": "code",
    "id": "Uc-pIBnZBTiJ"
   },
   "outputs": [],
   "source": [
    "df = df.dropna(axis=0)"
   ]
  },
  {
   "cell_type": "markdown",
   "metadata": {
    "colab_type": "text",
    "id": "w1AmWjf_BTiM"
   },
   "source": [
    "No feature with highly unbalance data. Next, we convert object value to dummies value."
   ]
  },
  {
   "cell_type": "code",
   "execution_count": 63,
   "metadata": {
    "colab": {},
    "colab_type": "code",
    "id": "kIPzEH0qBTiM"
   },
   "outputs": [],
   "source": [
    "df = pd.concat([pd.get_dummies(df.select_dtypes(include=['object'])),\n",
    "                   df.select_dtypes(include=['float64','int64'])]\n",
    "                   , axis=1)"
   ]
  },
  {
   "cell_type": "code",
   "execution_count": 64,
   "metadata": {
    "colab": {},
    "colab_type": "code",
    "id": "t7cjXk3zBTiP"
   },
   "outputs": [],
   "source": [
    "df['Sales_bin'] = pd.qcut(df['SalePrice'], q=[0,0.5,1], labels=[\"Low\", \"High\"])"
   ]
  },
  {
   "cell_type": "code",
   "execution_count": 65,
   "metadata": {
    "colab": {},
    "colab_type": "code",
    "id": "XvQT_E74BTiR",
    "outputId": "1eaf6394-9e91-4c06-eda0-868accc32dbd"
   },
   "outputs": [
    {
     "data": {
      "text/plain": [
       "High    585\n",
       "Low     585\n",
       "Name: Sales_bin, dtype: int64"
      ]
     },
     "execution_count": 65,
     "metadata": {},
     "output_type": "execute_result"
    }
   ],
   "source": [
    "df.Sales_bin.value_counts()"
   ]
  },
  {
   "cell_type": "markdown",
   "metadata": {
    "colab_type": "text",
    "id": "_FieEuD2BTiW"
   },
   "source": [
    "Separate feature and target"
   ]
  },
  {
   "cell_type": "code",
   "execution_count": 66,
   "metadata": {
    "colab": {},
    "colab_type": "code",
    "id": "43oRl1U4BTiX"
   },
   "outputs": [],
   "source": [
    "y_Logistic = df.Sales_bin.copy()\n",
    "y_Linear = df.SalePrice.copy()\n",
    "X = df.drop(['SalePrice','Sales_bin'],axis=1).copy()"
   ]
  },
  {
   "cell_type": "markdown",
   "metadata": {
    "colab_type": "text",
    "id": "ZyIIPkVqBTia"
   },
   "source": [
    "### 3. Model Training \n",
    "We will use Scikit-learn package to build a model.\n",
    "- http://scikit-learn.org/stable/\n",
    "\n",
    "Model Evaluation Method\n",
    "- Split into train set and test set"
   ]
  },
  {
   "cell_type": "code",
   "execution_count": 67,
   "metadata": {
    "colab": {},
    "colab_type": "code",
    "id": "Huae3gdYBTib"
   },
   "outputs": [],
   "source": [
    "from sklearn.model_selection import train_test_split\n",
    "\n",
    "X_train_Logistic, X_test_Logistic, y_train_Logistic, y_test_Logistic = train_test_split(X,y_Logistic,test_size=0.2,random_state=42)"
   ]
  },
  {
   "cell_type": "code",
   "execution_count": 68,
   "metadata": {},
   "outputs": [],
   "source": [
    "X_train_Linear, X_test_Linear, y_train_Linear, y_test_Linear = train_test_split(X,y_Linear,test_size=0.2,random_state=42)"
   ]
  },
  {
   "cell_type": "markdown",
   "metadata": {
    "colab_type": "text",
    "id": "CB1sVHB9BTid"
   },
   "source": [
    "- Fit Logistic Regression model"
   ]
  },
  {
   "cell_type": "code",
   "execution_count": 69,
   "metadata": {
    "colab": {},
    "colab_type": "code",
    "id": "X2NfDxh6BTif",
    "outputId": "87ea3ae0-23f0-4286-f13d-4ad51335c3ba"
   },
   "outputs": [
    {
     "data": {
      "text/plain": [
       "LogisticRegression(C=1.0, class_weight=None, dual=False, fit_intercept=True,\n",
       "          intercept_scaling=1, max_iter=100, multi_class='ovr', n_jobs=1,\n",
       "          penalty='l2', random_state=None, solver='liblinear', tol=0.0001,\n",
       "          verbose=0, warm_start=False)"
      ]
     },
     "execution_count": 69,
     "metadata": {},
     "output_type": "execute_result"
    }
   ],
   "source": [
    "from sklearn import linear_model\n",
    "\n",
    "\n",
    "model_logistic = linear_model.LogisticRegression()\n",
    "model_logistic.fit(X_train_Logistic, y_train_Logistic)"
   ]
  },
  {
   "cell_type": "markdown",
   "metadata": {},
   "source": [
    "   - Fit Linear Regression model"
   ]
  },
  {
   "cell_type": "code",
   "execution_count": 70,
   "metadata": {},
   "outputs": [
    {
     "data": {
      "text/plain": [
       "LinearRegression(copy_X=True, fit_intercept=True, n_jobs=1, normalize=False)"
      ]
     },
     "execution_count": 70,
     "metadata": {},
     "output_type": "execute_result"
    }
   ],
   "source": [
    "from sklearn import linear_model\n",
    "\n",
    "\n",
    "model_linear = linear_model.LinearRegression()\n",
    "model_linear.fit(X_train_Linear, y_train_Linear)"
   ]
  },
  {
   "cell_type": "markdown",
   "metadata": {},
   "source": [
    "   - Fit Decision Tree model"
   ]
  },
  {
   "cell_type": "code",
   "execution_count": 88,
   "metadata": {},
   "outputs": [
    {
     "name": "stdout",
     "output_type": "stream",
     "text": [
      "DecisionTreeClassifier(class_weight=None, criterion='gini', max_depth=None,\n",
      "            max_features=None, max_leaf_nodes=None,\n",
      "            min_impurity_decrease=0.0, min_impurity_split=None,\n",
      "            min_samples_leaf=1, min_samples_split=2,\n",
      "            min_weight_fraction_leaf=0.0, presort=False, random_state=None,\n",
      "            splitter='best')\n"
     ]
    }
   ],
   "source": [
    "from sklearn import tree\n",
    "model_clf = tree.DecisionTreeClassifier()\n",
    "model_clf = model_clf.fit(X_train_Logistic, y_train_Logistic)\n",
    "print(model_clf )\n"
   ]
  },
  {
   "cell_type": "markdown",
   "metadata": {
    "colab_type": "text",
    "id": "aWhdimgJBTii"
   },
   "source": [
    "**Fine-Tune model after evaluate default model**"
   ]
  },
  {
   "cell_type": "code",
   "execution_count": 71,
   "metadata": {
    "colab": {},
    "colab_type": "code",
    "id": "IYTLdHyYBTij",
    "outputId": "962faf6d-a830-4fd5-8c43-bb2b805d117b"
   },
   "outputs": [
    {
     "data": {
      "text/plain": [
       "LogisticRegression(C=1, class_weight=None, dual=False, fit_intercept=True,\n",
       "          intercept_scaling=1, max_iter=100, multi_class='ovr', n_jobs=1,\n",
       "          penalty='l1', random_state=0, solver='liblinear', tol=0.0001,\n",
       "          verbose=0, warm_start=False)"
      ]
     },
     "execution_count": 71,
     "metadata": {},
     "output_type": "execute_result"
    }
   ],
   "source": [
    "model_logistic = linear_model.LogisticRegression(C=1,penalty='l1',random_state=0)\n",
    "model_logistic.fit(X_train_Logistic, y_train_Logistic)"
   ]
  },
  {
   "cell_type": "code",
   "execution_count": 72,
   "metadata": {},
   "outputs": [
    {
     "data": {
      "text/plain": [
       "LinearRegression(copy_X=True, fit_intercept=False, n_jobs=5, normalize=True)"
      ]
     },
     "execution_count": 72,
     "metadata": {},
     "output_type": "execute_result"
    }
   ],
   "source": [
    "model_linear = linear_model.LinearRegression(fit_intercept=False,normalize=True,n_jobs=5)\n",
    "model_linear.fit(X_train_Linear, y_train_Linear)"
   ]
  },
  {
   "cell_type": "code",
   "execution_count": 90,
   "metadata": {},
   "outputs": [
    {
     "name": "stdout",
     "output_type": "stream",
     "text": [
      "DecisionTreeClassifier(class_weight=None, criterion='gini', max_depth=5,\n",
      "            max_features=None, max_leaf_nodes=None,\n",
      "            min_impurity_decrease=0.0, min_impurity_split=None,\n",
      "            min_samples_leaf=30, min_samples_split=2,\n",
      "            min_weight_fraction_leaf=0.0, presort=False, random_state=None,\n",
      "            splitter='best')\n"
     ]
    }
   ],
   "source": [
    "model_clf = tree.DecisionTreeClassifier(min_samples_leaf=30, max_depth=5)\n",
    "model_clf = model_clf.fit(X_train_Logistic, y_train_Logistic)\n",
    "print(model_clf )"
   ]
  },
  {
   "cell_type": "markdown",
   "metadata": {
    "colab_type": "text",
    "id": "tcD29VLrBTin"
   },
   "source": [
    "\n",
    "### 4. Model Tuning &  Result Analysis \n",
    "\n",
    "try answering the following questions.\n",
    "1. Analyze the model results. Do you think the model is good enough? <br>\n",
    "2. What is the C2 Score?\n",
    "3. If you change your preprosessing method, can you improve the model?\n",
    "4. If you change your parameters setting, can you improve the model?\n",
    "\n",
    "Explain and provide evidence to support your claims.\n",
    "\n",
    "You can look at :\n",
    "\n",
    "the parameters and functions of Logistic Regression at http://scikit-learn.org/stable/modules/generated/sklearn.linear_model.LogisticRegression.html\n",
    "\n",
    "the parameters and functions of Logistic Regression at http://scikit-learn.org/stable/modules/generated/sklearn.linear_model.LogisticRegression.html\n",
    "\n",
    "the parameters and functions of Logistic Regression at http://scikit-learn.org/stable/modules/generated/sklearn.linear_model.LogisticRegression.html"
   ]
  },
  {
   "cell_type": "markdown",
   "metadata": {},
   "source": [
    "#### ANS 1:"
   ]
  },
  {
   "cell_type": "markdown",
   "metadata": {},
   "source": [
    "#### ANS 2:"
   ]
  },
  {
   "cell_type": "markdown",
   "metadata": {},
   "source": [
    "#### ANS 3:"
   ]
  },
  {
   "cell_type": "markdown",
   "metadata": {},
   "source": [
    "#### ANS 4:"
   ]
  },
  {
   "cell_type": "markdown",
   "metadata": {},
   "source": [
    "   - Model Tuning Logistic Regression model"
   ]
  },
  {
   "cell_type": "code",
   "execution_count": 101,
   "metadata": {
    "colab": {},
    "colab_type": "code",
    "id": "f7Bo0oBDBTio",
    "outputId": "cc86be07-754f-4807-b4b7-99f47f334e67"
   },
   "outputs": [
    {
     "name": "stdout",
     "output_type": "stream",
     "text": [
      "Accuracy: 0.9209401709401709\n",
      "Confusion Matrix\n",
      "[[433  37]\n",
      " [ 37 429]]\n"
     ]
    }
   ],
   "source": [
    "y_train_pred_Logistic = model_logistic.predict(X_train_Logistic)\n",
    "\n",
    "from sklearn.metrics import accuracy_score\n",
    "print('Accuracy: %s'%accuracy_score(y_train_Logistic, y_train_pred_Logistic))\n",
    "\n",
    "from sklearn.metrics import confusion_matrix\n",
    "print('Confusion Matrix')\n",
    "print(confusion_matrix(y_train_Logistic, y_train_pred_Logistic , labels=[\"Low\", \"High\"]))"
   ]
  },
  {
   "cell_type": "code",
   "execution_count": 102,
   "metadata": {
    "colab": {},
    "colab_type": "code",
    "id": "iSn2cHcUBTiq",
    "outputId": "9db62794-8929-446b-c879-db4d73ff3faa"
   },
   "outputs": [
    {
     "name": "stdout",
     "output_type": "stream",
     "text": [
      "Accuracy: 0.9188034188034188\n",
      "Confusion Matrix\n",
      "[[106   9]\n",
      " [ 10 109]]\n"
     ]
    }
   ],
   "source": [
    "y_test_pred_Logistic = model_logistic.predict(X_test_Logistic)\n",
    "\n",
    "from sklearn.metrics import accuracy_score\n",
    "print('Accuracy: %s'%accuracy_score(y_test_Logistic, y_test_pred_Logistic))\n",
    "\n",
    "from sklearn.metrics import confusion_matrix\n",
    "print('Confusion Matrix')\n",
    "print(confusion_matrix(y_test_Logistic ,y_test_pred_Logistic , labels=[\"Low\", \"High\"]))"
   ]
  },
  {
   "cell_type": "code",
   "execution_count": null,
   "metadata": {},
   "outputs": [],
   "source": []
  },
  {
   "cell_type": "markdown",
   "metadata": {},
   "source": [
    "   - Model Tuning Decision Tree model"
   ]
  },
  {
   "cell_type": "code",
   "execution_count": 103,
   "metadata": {},
   "outputs": [
    {
     "name": "stdout",
     "output_type": "stream",
     "text": [
      "Accuracy: 0.8985042735042735\n",
      "Confusion Matrix\n",
      "[[415  55]\n",
      " [ 40 426]]\n"
     ]
    }
   ],
   "source": [
    "y_train_pred_tree = model_clf.predict(X_train_Logistic)\n",
    "\n",
    "from sklearn.metrics import accuracy_score\n",
    "print('Accuracy: %s'%accuracy_score(y_train_Logistic, y_train_pred_tree ))\n",
    "\n",
    "from sklearn.metrics import confusion_matrix\n",
    "print('Confusion Matrix')\n",
    "print(confusion_matrix(y_train_Logistic ,y_train_pred_tree , labels=[\"Low\", \"High\"]))"
   ]
  },
  {
   "cell_type": "code",
   "execution_count": 104,
   "metadata": {},
   "outputs": [
    {
     "name": "stdout",
     "output_type": "stream",
     "text": [
      "Accuracy: 0.8717948717948718\n",
      "Confusion Matrix\n",
      "[[101  14]\n",
      " [ 16 103]]\n"
     ]
    }
   ],
   "source": [
    "y_test_pred_tree = model_clf.predict(X_test_Logistic)\n",
    "\n",
    "from sklearn.metrics import accuracy_score\n",
    "print('Accuracy: %s'%accuracy_score(y_test_Logistic, y_test_pred_tree ))\n",
    "\n",
    "from sklearn.metrics import confusion_matrix\n",
    "print('Confusion Matrix')\n",
    "print(confusion_matrix(y_test_Logistic ,y_test_pred_tree , labels=[\"Low\", \"High\"]))"
   ]
  },
  {
   "cell_type": "code",
   "execution_count": 105,
   "metadata": {},
   "outputs": [
    {
     "data": {
      "text/plain": [
       "'dtree_render.pdf'"
      ]
     },
     "execution_count": 105,
     "metadata": {},
     "output_type": "execute_result"
    }
   ],
   "source": [
    "import graphviz\n",
    "dot_data = tree.export_graphviz( model_clf, out_file=None, \n",
    "                              feature_names=X_train_Logistic.columns,\n",
    "                              class_names=['0','1'],\n",
    "                              filled=True, rounded=True,\n",
    "                              special_characters=True, rotate=True)\n",
    "graph = graphviz.Source(dot_data)\n",
    "graph.render('dtree_render')"
   ]
  },
  {
   "cell_type": "markdown",
   "metadata": {},
   "source": [
    "   - Model Tuning Linear Regression model"
   ]
  },
  {
   "cell_type": "code",
   "execution_count": 106,
   "metadata": {},
   "outputs": [
    {
     "name": "stdout",
     "output_type": "stream",
     "text": [
      "R2: 0.82\n"
     ]
    }
   ],
   "source": [
    "y_train_pred_Linear = model_linear.predict(X_train_Linear)\n",
    "\n",
    "from sklearn.metrics import r2_score\n",
    "print('R2: %.2f'%r2_score(y_train_Linear, y_train_pred_Linear))\n"
   ]
  },
  {
   "cell_type": "code",
   "execution_count": 107,
   "metadata": {},
   "outputs": [
    {
     "name": "stdout",
     "output_type": "stream",
     "text": [
      "R2: 0.81\n"
     ]
    }
   ],
   "source": [
    "y_test_pred_Linear = model_linear.predict(X_test_Linear)\n",
    "\n",
    "from sklearn.metrics import r2_score\n",
    "print('R2: %.2f'%r2_score(y_test_Linear, y_test_pred_Linear))"
   ]
  },
  {
   "cell_type": "markdown",
   "metadata": {
    "colab_type": "text",
    "id": "AQ9PQJJ6BTiw"
   },
   "source": [
    "### Analysis\n",
    "\n",
    "*(This is an example. your answer may be different based on your result)*\n",
    "\n",
    "> Our model is well perform on both train set and test set with 91.8% accuracy after tuning. Thus, the model is risk of being overfit the test set and should be validate with other set of data."
   ]
  },
  {
   "cell_type": "code",
   "execution_count": null,
   "metadata": {},
   "outputs": [],
   "source": []
  },
  {
   "cell_type": "markdown",
   "metadata": {
    "colab_type": "text",
    "id": "XrkI0bCnBTiw"
   },
   "source": [
    "## Read more:\n",
    "- **Overfit vs Underfit:** https://towardsdatascience.com/overfitting-vs-underfitting-a-complete-example-d05dd7e19765\n",
    "- **Bias-Variance Tradeoff** https://towardsdatascience.com/understanding-the-bias-variance-tradeoff-165e6942b229\n",
    "- **Train, Test, Validation set** https://towardsdatascience.com/train-validation-and-test-sets-72cb40cba9e7"
   ]
  },
  {
   "cell_type": "markdown",
   "metadata": {
    "colab_type": "text",
    "id": "1SnQaeIaBTiw"
   },
   "source": [
    "### 5. (Optional) Mutlinomial Logistic Regression Model\n",
    "\n",
    "Binning the sale price into three classes : `Low`, `Medium`, `High`.\n",
    "Then, apply the logistic regression model and evaluate the model performance. <br>\n",
    "See http://scikit-learn.org/stable/modules/generated/sklearn.linear_model.LogisticRegression.html"
   ]
  },
  {
   "cell_type": "code",
   "execution_count": null,
   "metadata": {
    "colab": {},
    "colab_type": "code",
    "id": "jKjCsuOWBTix"
   },
   "outputs": [],
   "source": []
  },
  {
   "cell_type": "code",
   "execution_count": null,
   "metadata": {},
   "outputs": [],
   "source": []
  },
  {
   "cell_type": "code",
   "execution_count": null,
   "metadata": {},
   "outputs": [],
   "source": []
  }
 ],
 "metadata": {
  "colab": {
   "name": "Lab1_solution.ipynb",
   "provenance": [],
   "version": "0.3.2"
  },
  "kernelspec": {
   "display_name": "Python 3",
   "language": "python",
   "name": "python3"
  },
  "language_info": {
   "codemirror_mode": {
    "name": "ipython",
    "version": 3
   },
   "file_extension": ".py",
   "mimetype": "text/x-python",
   "name": "python",
   "nbconvert_exporter": "python",
   "pygments_lexer": "ipython3",
   "version": "3.6.4"
  }
 },
 "nbformat": 4,
 "nbformat_minor": 1
}
